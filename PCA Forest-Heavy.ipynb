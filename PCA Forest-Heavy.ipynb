{
 "cells": [
  {
   "cell_type": "markdown",
   "metadata": {
    "nbpresent": {
     "id": "0f1d88b2-a450-4ee2-bbb4-1848d3d11d76"
    }
   },
   "source": [
    "#### This notebook is designed to be a fairly verbose and expanded rendition of execution of a set of SAS Viya procedures using SAS CAS actions via Python in the Jupyter notebook interface.\n",
    "\n",
    "##### Please note: this notebook was designed to be interpretable by the widest audience so many Python shortcut techniques have been expanded and are verbose by design.\n"
   ]
  },
  {
   "cell_type": "code",
   "execution_count": 1,
   "metadata": {
    "collapsed": false,
    "nbpresent": {
     "id": "676d8579-9fc1-41df-a69e-ae0966df31c8"
    }
   },
   "outputs": [],
   "source": [
    "#the swat package from SAS provides the interface to SAS via Python\n",
    "from swat import *\n",
    "\n",
    "import numpy as np\n",
    "import pandas as pd\n",
    "import matplotlib.pyplot as plt\n",
    "%matplotlib inline\n",
    "from IPython.core.display import display, HTML"
   ]
  },
  {
   "cell_type": "markdown",
   "metadata": {
    "nbpresent": {
     "id": "475e1814-4993-48a2-abcf-419da01f55cd"
    }
   },
   "source": [
    "##### Start a CAS session"
   ]
  },
  {
   "cell_type": "code",
   "execution_count": 5,
   "metadata": {
    "collapsed": false,
    "nbpresent": {
     "id": "4218d265-45b2-476f-8018-798d5aa82004"
    }
   },
   "outputs": [],
   "source": [
    "sess = CAS('localhost',5570, authinfo = '~/.authinfo')"
   ]
  },
  {
   "cell_type": "markdown",
   "metadata": {},
   "source": [
    "##### Load SAS Actionsets"
   ]
  },
  {
   "cell_type": "code",
   "execution_count": 3,
   "metadata": {
    "collapsed": false
   },
   "outputs": [
    {
     "name": "stdout",
     "output_type": "stream",
     "text": [
      "NOTE: Added action set 'builtins'.\n",
      "NOTE: Added action set 'table'.\n",
      "NOTE: Added action set 'pca'.\n",
      "NOTE: Added action set 'decisionTree'.\n",
      "NOTE: Added action set 'sampling'.\n",
      "NOTE: Added action set 'percentile'.\n"
     ]
    },
    {
     "data": {
      "text/plain": [
       "[[actionset]\n",
       " \n",
       "  'builtins'\n",
       " \n",
       " + Elapsed: 0.0298s, user: 0.005s, sys: 0.014s, mem: 0.132mb, [actionset]\n",
       " \n",
       "  'table'\n",
       " \n",
       " + Elapsed: 0.00983s, user: 0.002s, sys: 0.013s, mem: 0.12mb, [actionset]\n",
       " \n",
       "  'pca'\n",
       " \n",
       " + Elapsed: 0.046s, user: 0.013s, sys: 0.021s, mem: 0.129mb, [actionset]\n",
       " \n",
       "  'decisionTree'\n",
       " \n",
       " + Elapsed: 0.0272s, user: 0.003s, sys: 0.024s, mem: 0.127mb, [actionset]\n",
       " \n",
       "  'sampling'\n",
       " \n",
       " + Elapsed: 0.0915s, user: 0.016s, sys: 0.022s, mem: 0.133mb, [actionset]\n",
       " \n",
       "  'percentile'\n",
       " \n",
       " + Elapsed: 0.0103s, user: 0.003s, sys: 0.014s, mem: 0.123mb]"
      ]
     },
     "execution_count": 3,
     "metadata": {},
     "output_type": "execute_result"
    }
   ],
   "source": [
    "sas_actionsets = ['builtins','table','pca','decisionTree','sampling','percentile']\n",
    "#loading SAS actionsets using list comprehension\n",
    "[sess.loadactionset(actionset=i) for i in sas_actionsets]"
   ]
  },
  {
   "cell_type": "markdown",
   "metadata": {
    "nbpresent": {
     "id": "8435c4f6-a581-4e0d-9418-759cf796c829"
    }
   },
   "source": [
    "##### Check Server Status"
   ]
  },
  {
   "cell_type": "code",
   "execution_count": 4,
   "metadata": {
    "collapsed": false,
    "nbpresent": {
     "id": "6c88323c-e4ad-4c54-aaff-a65a039cab4b"
    }
   },
   "outputs": [
    {
     "name": "stdout",
     "output_type": "stream",
     "text": [
      "NOTE: Grid node action status report: 4 nodes, 22 total actions executed.\n"
     ]
    },
    {
     "data": {
      "text/html": [
       "<div class=\"cas-results-key\"><b>&#167; About</b></div>\n",
       "<div class=\"cas-results-body\">\n",
       "<div>{'Copyright': 'Copyright © 2014-2016 SAS Institute Inc. All Rights Reserved.', 'license': {'site': 'UHC - VIYA', 'maxCPUs': 64, 'expires': '15Dec2016:00:00:00', 'warningPeriod': 12, 'siteNum': 70208500, 'gracePeriod': 20}, 'VersionLong': 'V.03.01M0P09072016', 'CAS': 'Cloud Analytic Services', 'System': {'OS Version': '#1 SMP Sun Jun 26 18:16:44 EDT 2016', 'Hostname': 'apsrt3373', 'Model Number': 'x86_64', 'OS Name': 'Linux', 'OS Release': '2.6.32-642.3.1.el6.x86_64', 'OS Family': 'LIN X64'}, 'Version': '3.01'}</div>\n",
       "</div>\n",
       "<div class=\"cas-results-key\"><hr/><b>&#167; server</b></div>\n",
       "<div class=\"cas-results-body\">\n",
       "<div>\n",
       "<table border=\"1\" class=\"dataframe\"><caption>Server Status</caption>\n",
       "  <thead>\n",
       "    <tr style=\"text-align: right;\">\n",
       "      <th title=\"\"></th>\n",
       "      <th title=\"Node Count\">nodes</th>\n",
       "      <th title=\"Total Actions\">actions</th>\n",
       "    </tr>\n",
       "  </thead>\n",
       "  <tbody>\n",
       "    <tr>\n",
       "      <th>0</th>\n",
       "      <td>4</td>\n",
       "      <td>22</td>\n",
       "    </tr>\n",
       "  </tbody>\n",
       "</table>\n",
       "</div>\n",
       "</div>\n",
       "<div class=\"cas-results-key\"><hr/><b>&#167; nodestatus</b></div>\n",
       "<div class=\"cas-results-body\">\n",
       "<div>\n",
       "<table border=\"1\" class=\"dataframe\"><caption>Node Status</caption>\n",
       "  <thead>\n",
       "    <tr style=\"text-align: right;\">\n",
       "      <th title=\"\"></th>\n",
       "      <th title=\"Node Name\">name</th>\n",
       "      <th title=\"Role\">role</th>\n",
       "      <th title=\"Uptime (Sec)\">uptime</th>\n",
       "      <th title=\"Running\">running</th>\n",
       "      <th title=\"Stalled\">stalled</th>\n",
       "    </tr>\n",
       "  </thead>\n",
       "  <tbody>\n",
       "    <tr>\n",
       "      <th>0</th>\n",
       "      <td>apsrt3374</td>\n",
       "      <td>worker</td>\n",
       "      <td>355.707</td>\n",
       "      <td>0</td>\n",
       "      <td>0</td>\n",
       "    </tr>\n",
       "    <tr>\n",
       "      <th>1</th>\n",
       "      <td>apsrt3375</td>\n",
       "      <td>worker</td>\n",
       "      <td>355.963</td>\n",
       "      <td>0</td>\n",
       "      <td>0</td>\n",
       "    </tr>\n",
       "    <tr>\n",
       "      <th>2</th>\n",
       "      <td>apsrt3376</td>\n",
       "      <td>worker</td>\n",
       "      <td>356.029</td>\n",
       "      <td>0</td>\n",
       "      <td>0</td>\n",
       "    </tr>\n",
       "    <tr>\n",
       "      <th>3</th>\n",
       "      <td>apsrt3373</td>\n",
       "      <td>controller</td>\n",
       "      <td>355.940</td>\n",
       "      <td>0</td>\n",
       "      <td>0</td>\n",
       "    </tr>\n",
       "  </tbody>\n",
       "</table>\n",
       "</div>\n",
       "</div>\n",
       "<div class=\"cas-output-area\"></div>\n",
       "<p class=\"cas-results-performance\"><small><span class=\"cas-elapsed\">elapsed 0.032s</span> &#183; <span class=\"cas-user\">user 0.003s</span> &#183; <span class=\"cas-sys\">sys 0.013s</span> &#183; <span class=\"cas-memory\">mem 0.146MB</span></small></p>"
      ],
      "text/plain": [
       "[About]\n",
       "\n",
       " {'CAS': 'Cloud Analytic Services',\n",
       "  'Copyright': 'Copyright © 2014-2016 SAS Institute Inc. All Rights Reserved.',\n",
       "  'System': {'Hostname': 'apsrt3373',\n",
       "   'Model Number': 'x86_64',\n",
       "   'OS Family': 'LIN X64',\n",
       "   'OS Name': 'Linux',\n",
       "   'OS Release': '2.6.32-642.3.1.el6.x86_64',\n",
       "   'OS Version': '#1 SMP Sun Jun 26 18:16:44 EDT 2016'},\n",
       "  'Version': '3.01',\n",
       "  'VersionLong': 'V.03.01M0P09072016',\n",
       "  'license': {'expires': '15Dec2016:00:00:00',\n",
       "   'gracePeriod': 20,\n",
       "   'maxCPUs': 64,\n",
       "   'site': 'UHC - VIYA',\n",
       "   'siteNum': 70208500,\n",
       "   'warningPeriod': 12}}\n",
       "\n",
       "[server]\n",
       "\n",
       " Server Status\n",
       " \n",
       "    nodes  actions\n",
       " 0      4       22\n",
       "\n",
       "[nodestatus]\n",
       "\n",
       " Node Status\n",
       " \n",
       "         name        role   uptime  running  stalled\n",
       " 0  apsrt3374      worker  355.707        0        0\n",
       " 1  apsrt3375      worker  355.963        0        0\n",
       " 2  apsrt3376      worker  356.029        0        0\n",
       " 3  apsrt3373  controller  355.940        0        0\n",
       "\n",
       "+ Elapsed: 0.032s, user: 0.003s, sys: 0.013s, mem: 0.146mb"
      ]
     },
     "execution_count": 4,
     "metadata": {},
     "output_type": "execute_result"
    }
   ],
   "source": [
    "sess.builtins.serverstatus()"
   ]
  },
  {
   "cell_type": "markdown",
   "metadata": {
    "nbpresent": {
     "id": "8f12fbbc-92e6-47b8-aebe-4108f4808016"
    }
   },
   "source": [
    "##### Load the data set into CAS - distributed, in memory datastore"
   ]
  },
  {
   "cell_type": "code",
   "execution_count": 5,
   "metadata": {
    "collapsed": false,
    "nbpresent": {
     "id": "ea6d94b5-e28c-4d91-88e1-8edfa3e8a996"
    }
   },
   "outputs": [
    {
     "name": "stdout",
     "output_type": "stream",
     "text": [
      "NOTE: Cloud Analytic Services made the uploaded file available as table SURVEY_MS_TOPICS in caslib CASUSERHDFS(scroker).\n",
      "NOTE: The table SURVEY_MS_TOPICS has been created in caslib CASUSERHDFS(scroker) from binary data uploaded to Cloud Analytic Services.\n"
     ]
    }
   ],
   "source": [
    "sms_topics = sess.upload(\"/htsasfin/int/datamart/prv/online/survey_ms_topics.sas7bdat\")"
   ]
  },
  {
   "cell_type": "code",
   "execution_count": 8,
   "metadata": {
    "collapsed": false
   },
   "outputs": [
    {
     "data": {
      "text/html": [
       "<div class=\"cas-results-key\"><b>&#167; TableInfo</b></div>\n",
       "<div class=\"cas-results-body\">\n",
       "<div>\n",
       "<table border=\"1\" class=\"dataframe\">\n",
       "  <thead>\n",
       "    <tr style=\"text-align: right;\">\n",
       "      <th title=\"\"></th>\n",
       "      <th title=\"Name\">Name</th>\n",
       "      <th title=\"Rows\">Rows</th>\n",
       "      <th title=\"Columns\">Columns</th>\n",
       "      <th title=\"Encoding\">Encoding</th>\n",
       "      <th title=\"Created\">CreateTimeFormatted</th>\n",
       "      <th title=\"Last Modified\">ModTimeFormatted</th>\n",
       "      <th title=\"Character Set\">JavaCharSet</th>\n",
       "      <th title=\"CreateTime\">CreateTime</th>\n",
       "      <th title=\"ModTime\">ModTime</th>\n",
       "      <th title=\"Global\">Global</th>\n",
       "      <th title=\"Repeated\">Repeated</th>\n",
       "      <th title=\"View\">View</th>\n",
       "      <th title=\"Loaded Source\">SourceName</th>\n",
       "      <th title=\"Source Caslib\">SourceCaslib</th>\n",
       "      <th title=\"Compressed\">Compressed</th>\n",
       "      <th title=\"Table Creator\">Creator</th>\n",
       "      <th title=\"Last Table Modifier\">Modifier</th>\n",
       "    </tr>\n",
       "  </thead>\n",
       "  <tbody>\n",
       "    <tr>\n",
       "      <th>0</th>\n",
       "      <td>SURVEY_MS_TOPICS</td>\n",
       "      <td>238</td>\n",
       "      <td>652</td>\n",
       "      <td>utf-8</td>\n",
       "      <td>07Dec2016:13:21:37</td>\n",
       "      <td>07Dec2016:13:21:37</td>\n",
       "      <td>UTF8</td>\n",
       "      <td>1.796736e+09</td>\n",
       "      <td>1.796736e+09</td>\n",
       "      <td>0</td>\n",
       "      <td>0</td>\n",
       "      <td>0</td>\n",
       "      <td></td>\n",
       "      <td></td>\n",
       "      <td>0</td>\n",
       "      <td>scroker</td>\n",
       "      <td></td>\n",
       "    </tr>\n",
       "    <tr>\n",
       "      <th>1</th>\n",
       "      <td>SURVEY_TOPICS_PCAV</td>\n",
       "      <td>238</td>\n",
       "      <td>13</td>\n",
       "      <td>utf-8</td>\n",
       "      <td>07Dec2016:09:43:36</td>\n",
       "      <td>07Dec2016:09:43:36</td>\n",
       "      <td>UTF8</td>\n",
       "      <td>1.796723e+09</td>\n",
       "      <td>1.796723e+09</td>\n",
       "      <td>1</td>\n",
       "      <td>0</td>\n",
       "      <td>0</td>\n",
       "      <td></td>\n",
       "      <td></td>\n",
       "      <td>0</td>\n",
       "      <td>scroker</td>\n",
       "      <td></td>\n",
       "    </tr>\n",
       "  </tbody>\n",
       "</table>\n",
       "</div>\n",
       "</div>\n",
       "<div class=\"cas-output-area\"></div>\n",
       "<p class=\"cas-results-performance\"><small><span class=\"cas-elapsed\">elapsed 0.00966s</span> &#183; <span class=\"cas-user\">user 0.002s</span> &#183; <span class=\"cas-sys\">sys 0.009s</span> &#183; <span class=\"cas-memory\">mem 0.191MB</span></small></p>"
      ],
      "text/plain": [
       "[TableInfo]\n",
       "\n",
       "                  Name  Rows  Columns Encoding CreateTimeFormatted  \\\n",
       " 0    SURVEY_MS_TOPICS   238      652    utf-8  07Dec2016:13:21:37   \n",
       " 1  SURVEY_TOPICS_PCAV   238       13    utf-8  07Dec2016:09:43:36   \n",
       " \n",
       "      ModTimeFormatted JavaCharSet    CreateTime       ModTime  Global  \\\n",
       " 0  07Dec2016:13:21:37        UTF8  1.796736e+09  1.796736e+09       0   \n",
       " 1  07Dec2016:09:43:36        UTF8  1.796723e+09  1.796723e+09       1   \n",
       " \n",
       "    Repeated  View SourceName SourceCaslib  Compressed  Creator Modifier  \n",
       " 0         0     0                                   0  scroker           \n",
       " 1         0     0                                   0  scroker           \n",
       "\n",
       "+ Elapsed: 0.00966s, user: 0.002s, sys: 0.009s, mem: 0.191mb"
      ]
     },
     "execution_count": 8,
     "metadata": {},
     "output_type": "execute_result"
    }
   ],
   "source": [
    "sess.tableInfo()"
   ]
  },
  {
   "cell_type": "markdown",
   "metadata": {
    "nbpresent": {
     "id": "ba067eb1-9c1b-4d9a-b22f-6df5293e7daf"
    }
   },
   "source": [
    "##### Look at CAS library to ensure correct tables have been generated"
   ]
  },
  {
   "cell_type": "code",
   "execution_count": 31,
   "metadata": {
    "collapsed": false,
    "nbpresent": {
     "id": "486b508e-da84-4f19-b5d1-6366ebad8ea8"
    },
    "scrolled": true
   },
   "outputs": [
    {
     "data": {
      "text/html": [
       "<div class=\"cas-results-key\"><b>&#167; TableInfo</b></div>\n",
       "<div class=\"cas-results-body\">\n",
       "<div>\n",
       "<table border=\"1\" class=\"dataframe\">\n",
       "  <thead>\n",
       "    <tr style=\"text-align: right;\">\n",
       "      <th title=\"\"></th>\n",
       "      <th title=\"Name\">Name</th>\n",
       "      <th title=\"Rows\">Rows</th>\n",
       "      <th title=\"Columns\">Columns</th>\n",
       "      <th title=\"Encoding\">Encoding</th>\n",
       "      <th title=\"Created\">CreateTimeFormatted</th>\n",
       "      <th title=\"Last Modified\">ModTimeFormatted</th>\n",
       "      <th title=\"Character Set\">JavaCharSet</th>\n",
       "      <th title=\"CreateTime\">CreateTime</th>\n",
       "      <th title=\"ModTime\">ModTime</th>\n",
       "      <th title=\"Global\">Global</th>\n",
       "      <th title=\"Repeated\">Repeated</th>\n",
       "      <th title=\"View\">View</th>\n",
       "      <th title=\"Loaded Source\">SourceName</th>\n",
       "      <th title=\"Source Caslib\">SourceCaslib</th>\n",
       "      <th title=\"Compressed\">Compressed</th>\n",
       "      <th title=\"Table Creator\">Creator</th>\n",
       "      <th title=\"Last Table Modifier\">Modifier</th>\n",
       "    </tr>\n",
       "  </thead>\n",
       "  <tbody>\n",
       "    <tr>\n",
       "      <th>0</th>\n",
       "      <td>SURVEY_TOPICS_PCAV_PART</td>\n",
       "      <td>238</td>\n",
       "      <td>14</td>\n",
       "      <td>utf-8</td>\n",
       "      <td>07Dec2016:09:45:29</td>\n",
       "      <td>07Dec2016:09:45:29</td>\n",
       "      <td>UTF8</td>\n",
       "      <td>1.796723e+09</td>\n",
       "      <td>1.796723e+09</td>\n",
       "      <td>1</td>\n",
       "      <td>0</td>\n",
       "      <td>0</td>\n",
       "      <td></td>\n",
       "      <td></td>\n",
       "      <td>0</td>\n",
       "      <td>scroker</td>\n",
       "      <td></td>\n",
       "    </tr>\n",
       "    <tr>\n",
       "      <th>1</th>\n",
       "      <td>FOREST_PCA_SCORE_MODEL</td>\n",
       "      <td>686</td>\n",
       "      <td>29</td>\n",
       "      <td>utf-8</td>\n",
       "      <td>07Dec2016:09:45:54</td>\n",
       "      <td>07Dec2016:09:45:54</td>\n",
       "      <td>UTF8</td>\n",
       "      <td>1.796723e+09</td>\n",
       "      <td>1.796723e+09</td>\n",
       "      <td>1</td>\n",
       "      <td>0</td>\n",
       "      <td>0</td>\n",
       "      <td></td>\n",
       "      <td></td>\n",
       "      <td>0</td>\n",
       "      <td>scroker</td>\n",
       "      <td></td>\n",
       "    </tr>\n",
       "    <tr>\n",
       "      <th>2</th>\n",
       "      <td>SURVEY_TOPICS_SCORED</td>\n",
       "      <td>48</td>\n",
       "      <td>7</td>\n",
       "      <td>utf-8</td>\n",
       "      <td>07Dec2016:10:20:14</td>\n",
       "      <td>07Dec2016:10:20:14</td>\n",
       "      <td>UTF8</td>\n",
       "      <td>1.796725e+09</td>\n",
       "      <td>1.796725e+09</td>\n",
       "      <td>1</td>\n",
       "      <td>0</td>\n",
       "      <td>0</td>\n",
       "      <td></td>\n",
       "      <td></td>\n",
       "      <td>0</td>\n",
       "      <td>scroker</td>\n",
       "      <td></td>\n",
       "    </tr>\n",
       "  </tbody>\n",
       "</table>\n",
       "</div>\n",
       "</div>\n",
       "<div class=\"cas-output-area\"></div>\n",
       "<p class=\"cas-results-performance\"><small><span class=\"cas-elapsed\">elapsed 0.0111s</span> &#183; <span class=\"cas-user\">user 0.003s</span> &#183; <span class=\"cas-sys\">sys 0.008s</span> &#183; <span class=\"cas-memory\">mem 0.185MB</span></small></p>"
      ],
      "text/plain": [
       "[TableInfo]\n",
       "\n",
       "                       Name  Rows  Columns Encoding CreateTimeFormatted  \\\n",
       " 0  SURVEY_TOPICS_PCAV_PART   238       14    utf-8  07Dec2016:09:45:29   \n",
       " 1   FOREST_PCA_SCORE_MODEL   686       29    utf-8  07Dec2016:09:45:54   \n",
       " 2     SURVEY_TOPICS_SCORED    48        7    utf-8  07Dec2016:10:20:14   \n",
       " \n",
       "      ModTimeFormatted JavaCharSet    CreateTime       ModTime  Global  \\\n",
       " 0  07Dec2016:09:45:29        UTF8  1.796723e+09  1.796723e+09       1   \n",
       " 1  07Dec2016:09:45:54        UTF8  1.796723e+09  1.796723e+09       1   \n",
       " 2  07Dec2016:10:20:14        UTF8  1.796725e+09  1.796725e+09       1   \n",
       " \n",
       "    Repeated  View SourceName SourceCaslib  Compressed  Creator Modifier  \n",
       " 0         0     0                                   0  scroker           \n",
       " 1         0     0                                   0  scroker           \n",
       " 2         0     0                                   0  scroker           \n",
       "\n",
       "+ Elapsed: 0.0111s, user: 0.003s, sys: 0.008s, mem: 0.185mb"
      ]
     },
     "execution_count": 31,
     "metadata": {},
     "output_type": "execute_result"
    }
   ],
   "source": [
    "#sess.tableinfo()\n",
    "sess.tableinfo(caslib='HTSASFIN')"
   ]
  },
  {
   "cell_type": "markdown",
   "metadata": {
    "nbpresent": {
     "id": "54a047e6-d409-42c7-9f8c-72659e4c8c22"
    }
   },
   "source": [
    "##### Look at the CAS table"
   ]
  },
  {
   "cell_type": "code",
   "execution_count": 91,
   "metadata": {
    "collapsed": false,
    "nbpresent": {
     "id": "0f178fdf-21be-49a0-abb1-f53a3952165a"
    },
    "scrolled": true
   },
   "outputs": [
    {
     "data": {
      "text/plain": [
       "['TextTopic_raw1',\n",
       " 'TextTopic_raw2',\n",
       " 'TextTopic_raw3',\n",
       " 'TextTopic_raw4',\n",
       " 'TextTopic_raw5',\n",
       " 'TextTopic_raw6',\n",
       " 'TextTopic_raw7',\n",
       " 'TextTopic_raw8',\n",
       " 'TextTopic_raw9',\n",
       " 'TextTopic_raw10',\n",
       " 'TextTopic_raw11',\n",
       " 'TextTopic_raw12']"
      ]
     },
     "execution_count": 91,
     "metadata": {},
     "output_type": "execute_result"
    }
   ],
   "source": [
    "sms_columns = sms_topics.casTable.columnInfo().get('ColumnInfo')\n",
    "def texttopic(element):\n",
    "        if re.search(r\"^(TextTopic_raw)[0-9]{1,2}$\",element):\n",
    "            return element\n",
    "\n",
    "input_columns = [i for i in [texttopic(i) for i in sms_columns.Column] if i != None]\n",
    "input_columns"
   ]
  },
  {
   "cell_type": "markdown",
   "metadata": {
    "nbpresent": {
     "id": "4fafc13e-64e3-4cdf-b30c-54929139ab74"
    }
   },
   "source": [
    "*SAS Viya PROC code that we are about to convert to CAS actions via Python:*\n",
    "```\n",
    "proc pca data=ifchcas.survey_ms_topics plots=(scree);\n",
    "                var TextTopic_raw1--TextTopic_raw12;\n",
    "                output out=ifchcas.survey_topics_pca score copyvars=(_all_);\n",
    "run;\n",
    "```\n"
   ]
  },
  {
   "cell_type": "code",
   "execution_count": 89,
   "metadata": {
    "collapsed": false,
    "nbpresent": {
     "id": "7ae97442-bf96-48f2-8a6e-f89e2eb5a080"
    }
   },
   "outputs": [
    {
     "name": "stdout",
     "output_type": "stream",
     "text": [
      "NOTE: Cloud Analytic Services dropped table survey_topics_pcav from caslib CASUSERHDFS(scroker).\n"
     ]
    }
   ],
   "source": [
    "r = sess.table.dropTable(name='survey_topics_pcav')"
   ]
  },
  {
   "cell_type": "code",
   "execution_count": 90,
   "metadata": {
    "collapsed": false,
    "nbpresent": {
     "id": "9cb5e0ad-b4b4-4491-87a3-7e5734f2667b"
    }
   },
   "outputs": [],
   "source": [
    "#note that the inputs are python lists and the output is a python dictionary\n",
    "sms_pca = sess.eig(table = 'survey_ms_topics',\n",
    "                    inputs = input_columns,\n",
    "                    output={'casOut':{'name':'survey_topics_pcav',\n",
    "                                      'promote':'True'\n",
    "                                     },\n",
    "                            'copyVars':'target'})\n",
    "#display(sms_pca)"
   ]
  },
  {
   "cell_type": "code",
   "execution_count": 13,
   "metadata": {
    "collapsed": false,
    "nbpresent": {
     "id": "ff1746df-e390-4852-a3b3-c04902c7d164"
    }
   },
   "outputs": [
    {
     "name": "stdout",
     "output_type": "stream",
     "text": [
      "NOTE: Cloud Analytic Services dropped table survey_topics_pcav_part from caslib htsasfin.\n"
     ]
    }
   ],
   "source": [
    "r = sess.table.droptable(caslib='HTSASFIN',name='survey_topics_pcav_part')"
   ]
  },
  {
   "cell_type": "code",
   "execution_count": 14,
   "metadata": {
    "collapsed": false,
    "nbpresent": {
     "id": "95decd69-b276-43f1-805f-f677d5a2e4bb"
    }
   },
   "outputs": [
    {
     "name": "stdout",
     "output_type": "stream",
     "text": [
      "NOTE: Added action set 'sampling'.\n",
      "NOTE: Using SEED=42042 for sampling.\n"
     ]
    }
   ],
   "source": [
    "sampled = sess.srs(output={'casOut':{'caslib':'HTSASFIN',\n",
    "                                     'name':'survey_topics_pcav_part',\n",
    "                                     'promote':True},\n",
    "                           'copyVars':'all'},\n",
    "                 samppct=20,\n",
    "                 seed=42042,\n",
    "                 table={'name':'survey_topics_pcav'},\n",
    "                 partind=True\n",
    "                )"
   ]
  },
  {
   "cell_type": "code",
   "execution_count": 15,
   "metadata": {
    "collapsed": true,
    "nbpresent": {
     "id": "a0c9bc25-bbdb-4bcc-b843-d410dc78d10a"
    }
   },
   "outputs": [],
   "source": [
    "sms_topic_part = sess.CASTable(caslib='HTSASFIN',name='survey_topics_pcav_part')\n",
    "training = sms_topic_part.query('0 = _partind_')\n",
    "testing  = sms_topic_part.query('1 = _partind_')"
   ]
  },
  {
   "cell_type": "markdown",
   "metadata": {
    "nbpresent": {
     "id": "3502ca3a-ff63-4153-ae41-a23fc57b87f0"
    }
   },
   "source": [
    "##### Look at CAS library to ensure correct tables have been generated"
   ]
  },
  {
   "cell_type": "code",
   "execution_count": 16,
   "metadata": {
    "collapsed": false,
    "nbpresent": {
     "id": "5ee24548-95b5-4fd4-a145-d704bfa90fde"
    }
   },
   "outputs": [
    {
     "data": {
      "text/html": [
       "<div class=\"cas-results-key\"><b>&#167; TableInfo</b></div>\n",
       "<div class=\"cas-results-body\">\n",
       "<div>\n",
       "<table border=\"1\" class=\"dataframe\">\n",
       "  <thead>\n",
       "    <tr style=\"text-align: right;\">\n",
       "      <th title=\"\"></th>\n",
       "      <th title=\"Name\">Name</th>\n",
       "      <th title=\"Rows\">Rows</th>\n",
       "      <th title=\"Columns\">Columns</th>\n",
       "      <th title=\"Encoding\">Encoding</th>\n",
       "      <th title=\"Created\">CreateTimeFormatted</th>\n",
       "      <th title=\"Last Modified\">ModTimeFormatted</th>\n",
       "      <th title=\"Character Set\">JavaCharSet</th>\n",
       "      <th title=\"CreateTime\">CreateTime</th>\n",
       "      <th title=\"ModTime\">ModTime</th>\n",
       "      <th title=\"Global\">Global</th>\n",
       "      <th title=\"Repeated\">Repeated</th>\n",
       "      <th title=\"View\">View</th>\n",
       "      <th title=\"Loaded Source\">SourceName</th>\n",
       "      <th title=\"Source Caslib\">SourceCaslib</th>\n",
       "      <th title=\"Compressed\">Compressed</th>\n",
       "      <th title=\"Table Creator\">Creator</th>\n",
       "      <th title=\"Last Table Modifier\">Modifier</th>\n",
       "    </tr>\n",
       "  </thead>\n",
       "  <tbody>\n",
       "    <tr>\n",
       "      <th>0</th>\n",
       "      <td>SURVEY_MS_TOPICS</td>\n",
       "      <td>238</td>\n",
       "      <td>652</td>\n",
       "      <td>utf-8</td>\n",
       "      <td>07Dec2016:09:42:38</td>\n",
       "      <td>07Dec2016:09:42:38</td>\n",
       "      <td>UTF8</td>\n",
       "      <td>1.796723e+09</td>\n",
       "      <td>1.796723e+09</td>\n",
       "      <td>0</td>\n",
       "      <td>0</td>\n",
       "      <td>0</td>\n",
       "      <td></td>\n",
       "      <td></td>\n",
       "      <td>0</td>\n",
       "      <td>scroker</td>\n",
       "      <td></td>\n",
       "    </tr>\n",
       "    <tr>\n",
       "      <th>1</th>\n",
       "      <td>SURVEY_TOPICS_PCAV</td>\n",
       "      <td>238</td>\n",
       "      <td>13</td>\n",
       "      <td>utf-8</td>\n",
       "      <td>07Dec2016:09:43:36</td>\n",
       "      <td>07Dec2016:09:43:36</td>\n",
       "      <td>UTF8</td>\n",
       "      <td>1.796723e+09</td>\n",
       "      <td>1.796723e+09</td>\n",
       "      <td>1</td>\n",
       "      <td>0</td>\n",
       "      <td>0</td>\n",
       "      <td></td>\n",
       "      <td></td>\n",
       "      <td>0</td>\n",
       "      <td>scroker</td>\n",
       "      <td></td>\n",
       "    </tr>\n",
       "  </tbody>\n",
       "</table>\n",
       "</div>\n",
       "</div>\n",
       "<div class=\"cas-output-area\"></div>\n",
       "<p class=\"cas-results-performance\"><small><span class=\"cas-elapsed\">elapsed 0.0124s</span> &#183; <span class=\"cas-user\">user 0.006s</span> &#183; <span class=\"cas-sys\">sys 0.006s</span> &#183; <span class=\"cas-memory\">mem 0.185MB</span></small></p>"
      ],
      "text/plain": [
       "[TableInfo]\n",
       "\n",
       "                  Name  Rows  Columns Encoding CreateTimeFormatted  \\\n",
       " 0    SURVEY_MS_TOPICS   238      652    utf-8  07Dec2016:09:42:38   \n",
       " 1  SURVEY_TOPICS_PCAV   238       13    utf-8  07Dec2016:09:43:36   \n",
       " \n",
       "      ModTimeFormatted JavaCharSet    CreateTime       ModTime  Global  \\\n",
       " 0  07Dec2016:09:42:38        UTF8  1.796723e+09  1.796723e+09       0   \n",
       " 1  07Dec2016:09:43:36        UTF8  1.796723e+09  1.796723e+09       1   \n",
       " \n",
       "    Repeated  View SourceName SourceCaslib  Compressed  Creator Modifier  \n",
       " 0         0     0                                   0  scroker           \n",
       " 1         0     0                                   0  scroker           \n",
       "\n",
       "+ Elapsed: 0.0124s, user: 0.006s, sys: 0.006s, mem: 0.185mb"
      ]
     },
     "execution_count": 16,
     "metadata": {},
     "output_type": "execute_result"
    }
   ],
   "source": [
    "sess.tableinfo()"
   ]
  },
  {
   "cell_type": "code",
   "execution_count": 17,
   "metadata": {
    "collapsed": false,
    "nbpresent": {
     "id": "c10bff0d-ee1b-4081-8d51-08fbae263503"
    }
   },
   "outputs": [],
   "source": [
    "#sms_topic_part.columnInfo()"
   ]
  },
  {
   "cell_type": "code",
   "execution_count": 18,
   "metadata": {
    "collapsed": false,
    "nbpresent": {
     "id": "a1d01330-02fb-47c4-97de-385767693763"
    },
    "scrolled": true
   },
   "outputs": [
    {
     "data": {
      "text/html": [
       "<div class=\"cas-results-key\"><b>&#167; TableInfo</b></div>\n",
       "<div class=\"cas-results-body\">\n",
       "<div>\n",
       "<table border=\"1\" class=\"dataframe\">\n",
       "  <thead>\n",
       "    <tr style=\"text-align: right;\">\n",
       "      <th title=\"\"></th>\n",
       "      <th title=\"Name\">Name</th>\n",
       "      <th title=\"Rows\">Rows</th>\n",
       "      <th title=\"Columns\">Columns</th>\n",
       "      <th title=\"Encoding\">Encoding</th>\n",
       "      <th title=\"Created\">CreateTimeFormatted</th>\n",
       "      <th title=\"Last Modified\">ModTimeFormatted</th>\n",
       "      <th title=\"Character Set\">JavaCharSet</th>\n",
       "      <th title=\"CreateTime\">CreateTime</th>\n",
       "      <th title=\"ModTime\">ModTime</th>\n",
       "      <th title=\"Global\">Global</th>\n",
       "      <th title=\"Repeated\">Repeated</th>\n",
       "      <th title=\"View\">View</th>\n",
       "      <th title=\"Loaded Source\">SourceName</th>\n",
       "      <th title=\"Source Caslib\">SourceCaslib</th>\n",
       "      <th title=\"Compressed\">Compressed</th>\n",
       "      <th title=\"Table Creator\">Creator</th>\n",
       "      <th title=\"Last Table Modifier\">Modifier</th>\n",
       "    </tr>\n",
       "  </thead>\n",
       "  <tbody>\n",
       "    <tr>\n",
       "      <th>0</th>\n",
       "      <td>FOREST_PCA_SCORE_MODEL</td>\n",
       "      <td>686</td>\n",
       "      <td>29</td>\n",
       "      <td>utf-8</td>\n",
       "      <td>07Dec2016:08:31:45</td>\n",
       "      <td>07Dec2016:08:31:45</td>\n",
       "      <td>UTF8</td>\n",
       "      <td>1.796719e+09</td>\n",
       "      <td>1.796719e+09</td>\n",
       "      <td>1</td>\n",
       "      <td>0</td>\n",
       "      <td>0</td>\n",
       "      <td></td>\n",
       "      <td></td>\n",
       "      <td>0</td>\n",
       "      <td>scroker</td>\n",
       "      <td></td>\n",
       "    </tr>\n",
       "    <tr>\n",
       "      <th>1</th>\n",
       "      <td>SURVEY_TOPICS_PCAV_PART</td>\n",
       "      <td>238</td>\n",
       "      <td>14</td>\n",
       "      <td>utf-8</td>\n",
       "      <td>07Dec2016:09:45:29</td>\n",
       "      <td>07Dec2016:09:45:29</td>\n",
       "      <td>UTF8</td>\n",
       "      <td>1.796723e+09</td>\n",
       "      <td>1.796723e+09</td>\n",
       "      <td>1</td>\n",
       "      <td>0</td>\n",
       "      <td>0</td>\n",
       "      <td></td>\n",
       "      <td></td>\n",
       "      <td>0</td>\n",
       "      <td>scroker</td>\n",
       "      <td></td>\n",
       "    </tr>\n",
       "  </tbody>\n",
       "</table>\n",
       "</div>\n",
       "</div>\n",
       "<div class=\"cas-output-area\"></div>\n",
       "<p class=\"cas-results-performance\"><small><span class=\"cas-elapsed\">elapsed 0.0136s</span> &#183; <span class=\"cas-user\">user 0.002s</span> &#183; <span class=\"cas-sys\">sys 0.01s</span> &#183; <span class=\"cas-memory\">mem 0.192MB</span></small></p>"
      ],
      "text/plain": [
       "[TableInfo]\n",
       "\n",
       "                       Name  Rows  Columns Encoding CreateTimeFormatted  \\\n",
       " 0   FOREST_PCA_SCORE_MODEL   686       29    utf-8  07Dec2016:08:31:45   \n",
       " 1  SURVEY_TOPICS_PCAV_PART   238       14    utf-8  07Dec2016:09:45:29   \n",
       " \n",
       "      ModTimeFormatted JavaCharSet    CreateTime       ModTime  Global  \\\n",
       " 0  07Dec2016:08:31:45        UTF8  1.796719e+09  1.796719e+09       1   \n",
       " 1  07Dec2016:09:45:29        UTF8  1.796723e+09  1.796723e+09       1   \n",
       " \n",
       "    Repeated  View SourceName SourceCaslib  Compressed  Creator Modifier  \n",
       " 0         0     0                                   0  scroker           \n",
       " 1         0     0                                   0  scroker           \n",
       "\n",
       "+ Elapsed: 0.0136s, user: 0.002s, sys: 0.01s, mem: 0.192mb"
      ]
     },
     "execution_count": 18,
     "metadata": {},
     "output_type": "execute_result"
    }
   ],
   "source": [
    "sess.tableinfo(caslib='HTSASFIN')"
   ]
  },
  {
   "cell_type": "markdown",
   "metadata": {
    "nbpresent": {
     "id": "bfe91ddf-7013-42b8-b68d-da560d3684bf"
    }
   },
   "source": [
    "``` proc forest data=CASUSER.SURVEY_TOPICS_PCA outmodel=ifchcas.forest_pca_model;\n",
    "                partition fraction(validate=0.3);\n",
    "                target target / level=nominal;\n",
    "                input Score1 Score2 Score3 Score4 Score5 Score6 Score7 Score8 Score9 Score10 \n",
    "                                Score11 Score12 / level=interval;\n",
    "                autotune tuningparameters=(vars_to_try(init=1) ) maxtime=%sysevalf(10*60) \n",
    "                                maxiters=20 popsize=20;\n",
    "                ods output FitStatistics=Work._Forest_FitStats_ \n",
    "                                VariableImportance=Work._Forest_VarImp_;\n",
    "                score out=ifchcas.forest_pca_score copyvars=(_all_);\n",
    "run;\n",
    "```\n"
   ]
  },
  {
   "cell_type": "code",
   "execution_count": 19,
   "metadata": {
    "collapsed": false,
    "nbpresent": {
     "id": "d67e6655-6495-4062-9923-0aa9a469b7f3"
    }
   },
   "outputs": [
    {
     "name": "stdout",
     "output_type": "stream",
     "text": [
      "NOTE: Cloud Analytic Services dropped table forest_pca_score_model from caslib htsasfin.\n"
     ]
    }
   ],
   "source": [
    "r = sess.table.droptable(caslib='HTSASFIN',name='forest_pca_score_model')"
   ]
  },
  {
   "cell_type": "code",
   "execution_count": 20,
   "metadata": {
    "collapsed": false,
    "nbpresent": {
     "id": "cf7d1039-ad04-4666-afdb-d7331d965e83"
    }
   },
   "outputs": [
    {
     "name": "stdout",
     "output_type": "stream",
     "text": [
      "NOTE: Added action set 'decisionTree'.\n"
     ]
    },
    {
     "data": {
      "text/html": [
       "<div class=\"cas-results-key\"><b>&#167; ModelInfo</b></div>\n",
       "<div class=\"cas-results-body\">\n",
       "<div>\n",
       "<table border=\"1\" class=\"dataframe\"><caption>Forest for SURVEY_TOPICS_PCAV_PART</caption>\n",
       "  <thead>\n",
       "    <tr style=\"text-align: right;\">\n",
       "      <th title=\"\"></th>\n",
       "      <th title=\"Descr\">Descr</th>\n",
       "      <th title=\"Value\">Value</th>\n",
       "    </tr>\n",
       "  </thead>\n",
       "  <tbody>\n",
       "    <tr>\n",
       "      <th>0</th>\n",
       "      <td>Number of Trees</td>\n",
       "      <td>50.000000</td>\n",
       "    </tr>\n",
       "    <tr>\n",
       "      <th>1</th>\n",
       "      <td>Number of Selected Variables (M)</td>\n",
       "      <td>4.000000</td>\n",
       "    </tr>\n",
       "    <tr>\n",
       "      <th>2</th>\n",
       "      <td>Random Number Seed</td>\n",
       "      <td>42042.000000</td>\n",
       "    </tr>\n",
       "    <tr>\n",
       "      <th>3</th>\n",
       "      <td>Bootstrap Percentage (%)</td>\n",
       "      <td>70.000000</td>\n",
       "    </tr>\n",
       "    <tr>\n",
       "      <th>4</th>\n",
       "      <td>Number of Bins</td>\n",
       "      <td>20.000000</td>\n",
       "    </tr>\n",
       "    <tr>\n",
       "      <th>5</th>\n",
       "      <td>Number of Variables</td>\n",
       "      <td>12.000000</td>\n",
       "    </tr>\n",
       "    <tr>\n",
       "      <th>6</th>\n",
       "      <td>Confidence Level for Pruning</td>\n",
       "      <td>0.250000</td>\n",
       "    </tr>\n",
       "    <tr>\n",
       "      <th>7</th>\n",
       "      <td>Max Number of Tree Nodes</td>\n",
       "      <td>23.000000</td>\n",
       "    </tr>\n",
       "    <tr>\n",
       "      <th>8</th>\n",
       "      <td>Min Number of Tree Nodes</td>\n",
       "      <td>11.000000</td>\n",
       "    </tr>\n",
       "    <tr>\n",
       "      <th>9</th>\n",
       "      <td>Max Number of Branches</td>\n",
       "      <td>2.000000</td>\n",
       "    </tr>\n",
       "    <tr>\n",
       "      <th>10</th>\n",
       "      <td>Min Number of Branches</td>\n",
       "      <td>2.000000</td>\n",
       "    </tr>\n",
       "    <tr>\n",
       "      <th>11</th>\n",
       "      <td>Max Number of Levels</td>\n",
       "      <td>6.000000</td>\n",
       "    </tr>\n",
       "    <tr>\n",
       "      <th>12</th>\n",
       "      <td>Min Number of Levels</td>\n",
       "      <td>6.000000</td>\n",
       "    </tr>\n",
       "    <tr>\n",
       "      <th>13</th>\n",
       "      <td>Max Number of Leaves</td>\n",
       "      <td>12.000000</td>\n",
       "    </tr>\n",
       "    <tr>\n",
       "      <th>14</th>\n",
       "      <td>Min Number of Leaves</td>\n",
       "      <td>6.000000</td>\n",
       "    </tr>\n",
       "    <tr>\n",
       "      <th>15</th>\n",
       "      <td>Maximum Size of Leaves</td>\n",
       "      <td>97.000000</td>\n",
       "    </tr>\n",
       "    <tr>\n",
       "      <th>16</th>\n",
       "      <td>Minimum Size of Leaves</td>\n",
       "      <td>5.000000</td>\n",
       "    </tr>\n",
       "    <tr>\n",
       "      <th>17</th>\n",
       "      <td>Out-of-Bag MCR (%)</td>\n",
       "      <td>25.263158</td>\n",
       "    </tr>\n",
       "  </tbody>\n",
       "</table>\n",
       "</div>\n",
       "</div>\n",
       "<div class=\"cas-results-key\"><hr/><b>&#167; ErrorMetricInfo</b></div>\n",
       "<div class=\"cas-results-body\">\n",
       "<div>\n",
       "<table border=\"1\" class=\"dataframe\">\n",
       "  <thead>\n",
       "    <tr style=\"text-align: right;\">\n",
       "      <th title=\"\"></th>\n",
       "      <th title=\"TreeID\">TreeID</th>\n",
       "      <th title=\"Trees\">Trees</th>\n",
       "      <th title=\"NLeaves\">NLeaves</th>\n",
       "      <th title=\"MCR\">MCR</th>\n",
       "      <th title=\"LogLoss\">LogLoss</th>\n",
       "      <th title=\"ASE\">ASE</th>\n",
       "      <th title=\"RASE\">RASE</th>\n",
       "      <th title=\"MAXAE\">MAXAE</th>\n",
       "    </tr>\n",
       "  </thead>\n",
       "  <tbody>\n",
       "    <tr>\n",
       "      <th>0</th>\n",
       "      <td>0.0</td>\n",
       "      <td>1.0</td>\n",
       "      <td>9.0</td>\n",
       "      <td>0.313131</td>\n",
       "      <td>7.210115</td>\n",
       "      <td>0.313131</td>\n",
       "      <td>0.559581</td>\n",
       "      <td>1.0</td>\n",
       "    </tr>\n",
       "    <tr>\n",
       "      <th>1</th>\n",
       "      <td>1.0</td>\n",
       "      <td>2.0</td>\n",
       "      <td>15.0</td>\n",
       "      <td>0.315068</td>\n",
       "      <td>6.072698</td>\n",
       "      <td>0.339041</td>\n",
       "      <td>0.582272</td>\n",
       "      <td>1.0</td>\n",
       "    </tr>\n",
       "    <tr>\n",
       "      <th>2</th>\n",
       "      <td>2.0</td>\n",
       "      <td>3.0</td>\n",
       "      <td>24.0</td>\n",
       "      <td>0.348837</td>\n",
       "      <td>6.378245</td>\n",
       "      <td>0.389050</td>\n",
       "      <td>0.623739</td>\n",
       "      <td>1.0</td>\n",
       "    </tr>\n",
       "    <tr>\n",
       "      <th>3</th>\n",
       "      <td>3.0</td>\n",
       "      <td>4.0</td>\n",
       "      <td>33.0</td>\n",
       "      <td>0.311111</td>\n",
       "      <td>6.038326</td>\n",
       "      <td>0.389390</td>\n",
       "      <td>0.624012</td>\n",
       "      <td>1.0</td>\n",
       "    </tr>\n",
       "    <tr>\n",
       "      <th>4</th>\n",
       "      <td>4.0</td>\n",
       "      <td>5.0</td>\n",
       "      <td>39.0</td>\n",
       "      <td>0.326087</td>\n",
       "      <td>5.533670</td>\n",
       "      <td>0.409681</td>\n",
       "      <td>0.640064</td>\n",
       "      <td>1.0</td>\n",
       "    </tr>\n",
       "    <tr>\n",
       "      <th>5</th>\n",
       "      <td>5.0</td>\n",
       "      <td>6.0</td>\n",
       "      <td>47.0</td>\n",
       "      <td>0.294118</td>\n",
       "      <td>3.256482</td>\n",
       "      <td>0.403030</td>\n",
       "      <td>0.634847</td>\n",
       "      <td>1.0</td>\n",
       "    </tr>\n",
       "    <tr>\n",
       "      <th>6</th>\n",
       "      <td>6.0</td>\n",
       "      <td>7.0</td>\n",
       "      <td>54.0</td>\n",
       "      <td>0.294737</td>\n",
       "      <td>2.514969</td>\n",
       "      <td>0.424227</td>\n",
       "      <td>0.651327</td>\n",
       "      <td>1.0</td>\n",
       "    </tr>\n",
       "    <tr>\n",
       "      <th>7</th>\n",
       "      <td>7.0</td>\n",
       "      <td>8.0</td>\n",
       "      <td>61.0</td>\n",
       "      <td>0.315789</td>\n",
       "      <td>2.437238</td>\n",
       "      <td>0.437958</td>\n",
       "      <td>0.661784</td>\n",
       "      <td>1.0</td>\n",
       "    </tr>\n",
       "    <tr>\n",
       "      <th>8</th>\n",
       "      <td>8.0</td>\n",
       "      <td>9.0</td>\n",
       "      <td>68.0</td>\n",
       "      <td>0.305263</td>\n",
       "      <td>1.998143</td>\n",
       "      <td>0.435324</td>\n",
       "      <td>0.659791</td>\n",
       "      <td>1.0</td>\n",
       "    </tr>\n",
       "    <tr>\n",
       "      <th>9</th>\n",
       "      <td>9.0</td>\n",
       "      <td>10.0</td>\n",
       "      <td>77.0</td>\n",
       "      <td>0.321053</td>\n",
       "      <td>2.012284</td>\n",
       "      <td>0.442142</td>\n",
       "      <td>0.664938</td>\n",
       "      <td>1.0</td>\n",
       "    </tr>\n",
       "    <tr>\n",
       "      <th>10</th>\n",
       "      <td>10.0</td>\n",
       "      <td>11.0</td>\n",
       "      <td>83.0</td>\n",
       "      <td>0.321053</td>\n",
       "      <td>1.908781</td>\n",
       "      <td>0.445258</td>\n",
       "      <td>0.667276</td>\n",
       "      <td>1.0</td>\n",
       "    </tr>\n",
       "    <tr>\n",
       "      <th>11</th>\n",
       "      <td>11.0</td>\n",
       "      <td>12.0</td>\n",
       "      <td>90.0</td>\n",
       "      <td>0.310526</td>\n",
       "      <td>1.907306</td>\n",
       "      <td>0.443886</td>\n",
       "      <td>0.666247</td>\n",
       "      <td>1.0</td>\n",
       "    </tr>\n",
       "    <tr>\n",
       "      <th>12</th>\n",
       "      <td>12.0</td>\n",
       "      <td>13.0</td>\n",
       "      <td>96.0</td>\n",
       "      <td>0.300000</td>\n",
       "      <td>1.927510</td>\n",
       "      <td>0.450802</td>\n",
       "      <td>0.671418</td>\n",
       "      <td>1.0</td>\n",
       "    </tr>\n",
       "    <tr>\n",
       "      <th>13</th>\n",
       "      <td>13.0</td>\n",
       "      <td>14.0</td>\n",
       "      <td>104.0</td>\n",
       "      <td>0.305263</td>\n",
       "      <td>1.829312</td>\n",
       "      <td>0.455326</td>\n",
       "      <td>0.674778</td>\n",
       "      <td>1.0</td>\n",
       "    </tr>\n",
       "    <tr>\n",
       "      <th>14</th>\n",
       "      <td>14.0</td>\n",
       "      <td>15.0</td>\n",
       "      <td>110.0</td>\n",
       "      <td>0.310526</td>\n",
       "      <td>1.832788</td>\n",
       "      <td>0.454708</td>\n",
       "      <td>0.674321</td>\n",
       "      <td>1.0</td>\n",
       "    </tr>\n",
       "    <tr>\n",
       "      <th>15</th>\n",
       "      <td>15.0</td>\n",
       "      <td>16.0</td>\n",
       "      <td>116.0</td>\n",
       "      <td>0.305263</td>\n",
       "      <td>1.837081</td>\n",
       "      <td>0.454429</td>\n",
       "      <td>0.674113</td>\n",
       "      <td>1.0</td>\n",
       "    </tr>\n",
       "    <tr>\n",
       "      <th>16</th>\n",
       "      <td>16.0</td>\n",
       "      <td>17.0</td>\n",
       "      <td>125.0</td>\n",
       "      <td>0.278947</td>\n",
       "      <td>1.825967</td>\n",
       "      <td>0.450140</td>\n",
       "      <td>0.670925</td>\n",
       "      <td>1.0</td>\n",
       "    </tr>\n",
       "    <tr>\n",
       "      <th>17</th>\n",
       "      <td>17.0</td>\n",
       "      <td>18.0</td>\n",
       "      <td>132.0</td>\n",
       "      <td>0.278947</td>\n",
       "      <td>1.847488</td>\n",
       "      <td>0.457192</td>\n",
       "      <td>0.676159</td>\n",
       "      <td>1.0</td>\n",
       "    </tr>\n",
       "    <tr>\n",
       "      <th>18</th>\n",
       "      <td>18.0</td>\n",
       "      <td>19.0</td>\n",
       "      <td>138.0</td>\n",
       "      <td>0.278947</td>\n",
       "      <td>1.649028</td>\n",
       "      <td>0.459688</td>\n",
       "      <td>0.678003</td>\n",
       "      <td>1.0</td>\n",
       "    </tr>\n",
       "    <tr>\n",
       "      <th>19</th>\n",
       "      <td>19.0</td>\n",
       "      <td>20.0</td>\n",
       "      <td>147.0</td>\n",
       "      <td>0.284211</td>\n",
       "      <td>1.663101</td>\n",
       "      <td>0.464449</td>\n",
       "      <td>0.681505</td>\n",
       "      <td>1.0</td>\n",
       "    </tr>\n",
       "    <tr>\n",
       "      <th>20</th>\n",
       "      <td>20.0</td>\n",
       "      <td>21.0</td>\n",
       "      <td>155.0</td>\n",
       "      <td>0.305263</td>\n",
       "      <td>1.667367</td>\n",
       "      <td>0.464277</td>\n",
       "      <td>0.681379</td>\n",
       "      <td>1.0</td>\n",
       "    </tr>\n",
       "    <tr>\n",
       "      <th>21</th>\n",
       "      <td>21.0</td>\n",
       "      <td>22.0</td>\n",
       "      <td>161.0</td>\n",
       "      <td>0.294737</td>\n",
       "      <td>1.567114</td>\n",
       "      <td>0.464295</td>\n",
       "      <td>0.681392</td>\n",
       "      <td>1.0</td>\n",
       "    </tr>\n",
       "    <tr>\n",
       "      <th>22</th>\n",
       "      <td>22.0</td>\n",
       "      <td>23.0</td>\n",
       "      <td>167.0</td>\n",
       "      <td>0.294737</td>\n",
       "      <td>1.564364</td>\n",
       "      <td>0.462558</td>\n",
       "      <td>0.680116</td>\n",
       "      <td>1.0</td>\n",
       "    </tr>\n",
       "    <tr>\n",
       "      <th>23</th>\n",
       "      <td>23.0</td>\n",
       "      <td>24.0</td>\n",
       "      <td>175.0</td>\n",
       "      <td>0.289474</td>\n",
       "      <td>1.571130</td>\n",
       "      <td>0.463583</td>\n",
       "      <td>0.680869</td>\n",
       "      <td>1.0</td>\n",
       "    </tr>\n",
       "    <tr>\n",
       "      <th>24</th>\n",
       "      <td>24.0</td>\n",
       "      <td>25.0</td>\n",
       "      <td>182.0</td>\n",
       "      <td>0.284211</td>\n",
       "      <td>1.570502</td>\n",
       "      <td>0.462102</td>\n",
       "      <td>0.679781</td>\n",
       "      <td>1.0</td>\n",
       "    </tr>\n",
       "    <tr>\n",
       "      <th>25</th>\n",
       "      <td>25.0</td>\n",
       "      <td>26.0</td>\n",
       "      <td>189.0</td>\n",
       "      <td>0.284211</td>\n",
       "      <td>1.455628</td>\n",
       "      <td>0.459914</td>\n",
       "      <td>0.678169</td>\n",
       "      <td>1.0</td>\n",
       "    </tr>\n",
       "    <tr>\n",
       "      <th>26</th>\n",
       "      <td>26.0</td>\n",
       "      <td>27.0</td>\n",
       "      <td>196.0</td>\n",
       "      <td>0.294737</td>\n",
       "      <td>1.440320</td>\n",
       "      <td>0.457145</td>\n",
       "      <td>0.676125</td>\n",
       "      <td>1.0</td>\n",
       "    </tr>\n",
       "    <tr>\n",
       "      <th>27</th>\n",
       "      <td>27.0</td>\n",
       "      <td>28.0</td>\n",
       "      <td>203.0</td>\n",
       "      <td>0.294737</td>\n",
       "      <td>1.438782</td>\n",
       "      <td>0.458681</td>\n",
       "      <td>0.677260</td>\n",
       "      <td>1.0</td>\n",
       "    </tr>\n",
       "    <tr>\n",
       "      <th>28</th>\n",
       "      <td>28.0</td>\n",
       "      <td>29.0</td>\n",
       "      <td>210.0</td>\n",
       "      <td>0.294737</td>\n",
       "      <td>1.438970</td>\n",
       "      <td>0.461366</td>\n",
       "      <td>0.679239</td>\n",
       "      <td>1.0</td>\n",
       "    </tr>\n",
       "    <tr>\n",
       "      <th>29</th>\n",
       "      <td>29.0</td>\n",
       "      <td>30.0</td>\n",
       "      <td>219.0</td>\n",
       "      <td>0.289474</td>\n",
       "      <td>1.428101</td>\n",
       "      <td>0.458000</td>\n",
       "      <td>0.676757</td>\n",
       "      <td>1.0</td>\n",
       "    </tr>\n",
       "    <tr>\n",
       "      <th>30</th>\n",
       "      <td>30.0</td>\n",
       "      <td>31.0</td>\n",
       "      <td>226.0</td>\n",
       "      <td>0.289474</td>\n",
       "      <td>1.431861</td>\n",
       "      <td>0.458004</td>\n",
       "      <td>0.676760</td>\n",
       "      <td>1.0</td>\n",
       "    </tr>\n",
       "    <tr>\n",
       "      <th>31</th>\n",
       "      <td>31.0</td>\n",
       "      <td>32.0</td>\n",
       "      <td>233.0</td>\n",
       "      <td>0.289474</td>\n",
       "      <td>1.323049</td>\n",
       "      <td>0.456956</td>\n",
       "      <td>0.675986</td>\n",
       "      <td>1.0</td>\n",
       "    </tr>\n",
       "    <tr>\n",
       "      <th>32</th>\n",
       "      <td>32.0</td>\n",
       "      <td>33.0</td>\n",
       "      <td>240.0</td>\n",
       "      <td>0.273684</td>\n",
       "      <td>1.309355</td>\n",
       "      <td>0.455098</td>\n",
       "      <td>0.674610</td>\n",
       "      <td>1.0</td>\n",
       "    </tr>\n",
       "    <tr>\n",
       "      <th>33</th>\n",
       "      <td>33.0</td>\n",
       "      <td>34.0</td>\n",
       "      <td>248.0</td>\n",
       "      <td>0.278947</td>\n",
       "      <td>1.308449</td>\n",
       "      <td>0.456711</td>\n",
       "      <td>0.675804</td>\n",
       "      <td>1.0</td>\n",
       "    </tr>\n",
       "    <tr>\n",
       "      <th>34</th>\n",
       "      <td>34.0</td>\n",
       "      <td>35.0</td>\n",
       "      <td>256.0</td>\n",
       "      <td>0.268421</td>\n",
       "      <td>1.302830</td>\n",
       "      <td>0.453831</td>\n",
       "      <td>0.673670</td>\n",
       "      <td>1.0</td>\n",
       "    </tr>\n",
       "    <tr>\n",
       "      <th>35</th>\n",
       "      <td>35.0</td>\n",
       "      <td>36.0</td>\n",
       "      <td>263.0</td>\n",
       "      <td>0.273684</td>\n",
       "      <td>1.296863</td>\n",
       "      <td>0.452304</td>\n",
       "      <td>0.672535</td>\n",
       "      <td>1.0</td>\n",
       "    </tr>\n",
       "    <tr>\n",
       "      <th>36</th>\n",
       "      <td>36.0</td>\n",
       "      <td>37.0</td>\n",
       "      <td>269.0</td>\n",
       "      <td>0.284211</td>\n",
       "      <td>1.299071</td>\n",
       "      <td>0.452797</td>\n",
       "      <td>0.672902</td>\n",
       "      <td>1.0</td>\n",
       "    </tr>\n",
       "    <tr>\n",
       "      <th>37</th>\n",
       "      <td>37.0</td>\n",
       "      <td>38.0</td>\n",
       "      <td>281.0</td>\n",
       "      <td>0.278947</td>\n",
       "      <td>1.293724</td>\n",
       "      <td>0.451968</td>\n",
       "      <td>0.672285</td>\n",
       "      <td>1.0</td>\n",
       "    </tr>\n",
       "    <tr>\n",
       "      <th>38</th>\n",
       "      <td>38.0</td>\n",
       "      <td>39.0</td>\n",
       "      <td>288.0</td>\n",
       "      <td>0.273684</td>\n",
       "      <td>1.295295</td>\n",
       "      <td>0.451329</td>\n",
       "      <td>0.671810</td>\n",
       "      <td>1.0</td>\n",
       "    </tr>\n",
       "    <tr>\n",
       "      <th>39</th>\n",
       "      <td>39.0</td>\n",
       "      <td>40.0</td>\n",
       "      <td>294.0</td>\n",
       "      <td>0.273684</td>\n",
       "      <td>1.289430</td>\n",
       "      <td>0.449082</td>\n",
       "      <td>0.670136</td>\n",
       "      <td>1.0</td>\n",
       "    </tr>\n",
       "    <tr>\n",
       "      <th>40</th>\n",
       "      <td>40.0</td>\n",
       "      <td>41.0</td>\n",
       "      <td>303.0</td>\n",
       "      <td>0.278947</td>\n",
       "      <td>1.293192</td>\n",
       "      <td>0.450946</td>\n",
       "      <td>0.671525</td>\n",
       "      <td>1.0</td>\n",
       "    </tr>\n",
       "    <tr>\n",
       "      <th>41</th>\n",
       "      <td>41.0</td>\n",
       "      <td>42.0</td>\n",
       "      <td>309.0</td>\n",
       "      <td>0.273684</td>\n",
       "      <td>1.297066</td>\n",
       "      <td>0.452150</td>\n",
       "      <td>0.672421</td>\n",
       "      <td>1.0</td>\n",
       "    </tr>\n",
       "    <tr>\n",
       "      <th>42</th>\n",
       "      <td>42.0</td>\n",
       "      <td>43.0</td>\n",
       "      <td>316.0</td>\n",
       "      <td>0.278947</td>\n",
       "      <td>1.297277</td>\n",
       "      <td>0.452031</td>\n",
       "      <td>0.672332</td>\n",
       "      <td>1.0</td>\n",
       "    </tr>\n",
       "    <tr>\n",
       "      <th>43</th>\n",
       "      <td>43.0</td>\n",
       "      <td>44.0</td>\n",
       "      <td>322.0</td>\n",
       "      <td>0.278947</td>\n",
       "      <td>1.294854</td>\n",
       "      <td>0.452009</td>\n",
       "      <td>0.672316</td>\n",
       "      <td>1.0</td>\n",
       "    </tr>\n",
       "    <tr>\n",
       "      <th>44</th>\n",
       "      <td>44.0</td>\n",
       "      <td>45.0</td>\n",
       "      <td>329.0</td>\n",
       "      <td>0.273684</td>\n",
       "      <td>1.296746</td>\n",
       "      <td>0.453694</td>\n",
       "      <td>0.673568</td>\n",
       "      <td>1.0</td>\n",
       "    </tr>\n",
       "    <tr>\n",
       "      <th>45</th>\n",
       "      <td>45.0</td>\n",
       "      <td>46.0</td>\n",
       "      <td>335.0</td>\n",
       "      <td>0.263158</td>\n",
       "      <td>1.298807</td>\n",
       "      <td>0.453793</td>\n",
       "      <td>0.673641</td>\n",
       "      <td>1.0</td>\n",
       "    </tr>\n",
       "    <tr>\n",
       "      <th>46</th>\n",
       "      <td>46.0</td>\n",
       "      <td>47.0</td>\n",
       "      <td>344.0</td>\n",
       "      <td>0.252632</td>\n",
       "      <td>1.298726</td>\n",
       "      <td>0.453927</td>\n",
       "      <td>0.673741</td>\n",
       "      <td>1.0</td>\n",
       "    </tr>\n",
       "    <tr>\n",
       "      <th>47</th>\n",
       "      <td>47.0</td>\n",
       "      <td>48.0</td>\n",
       "      <td>355.0</td>\n",
       "      <td>0.257895</td>\n",
       "      <td>1.294129</td>\n",
       "      <td>0.452579</td>\n",
       "      <td>0.672740</td>\n",
       "      <td>1.0</td>\n",
       "    </tr>\n",
       "    <tr>\n",
       "      <th>48</th>\n",
       "      <td>48.0</td>\n",
       "      <td>49.0</td>\n",
       "      <td>361.0</td>\n",
       "      <td>0.257895</td>\n",
       "      <td>1.295559</td>\n",
       "      <td>0.452434</td>\n",
       "      <td>0.672632</td>\n",
       "      <td>1.0</td>\n",
       "    </tr>\n",
       "    <tr>\n",
       "      <th>49</th>\n",
       "      <td>49.0</td>\n",
       "      <td>50.0</td>\n",
       "      <td>368.0</td>\n",
       "      <td>0.252632</td>\n",
       "      <td>1.295893</td>\n",
       "      <td>0.451796</td>\n",
       "      <td>0.672158</td>\n",
       "      <td>1.0</td>\n",
       "    </tr>\n",
       "  </tbody>\n",
       "</table>\n",
       "</div>\n",
       "</div>\n",
       "<div class=\"cas-results-key\"><hr/><b>&#167; DTreeVarImpInfo</b></div>\n",
       "<div class=\"cas-results-body\">\n",
       "<div>\n",
       "<table border=\"1\" class=\"dataframe\"><caption>Forest for SURVEY_TOPICS_PCAV_PART</caption>\n",
       "  <thead>\n",
       "    <tr style=\"text-align: right;\">\n",
       "      <th title=\"\"></th>\n",
       "      <th title=\"Analysis Variable\">Variable</th>\n",
       "      <th title=\"Importance\">Importance</th>\n",
       "      <th title=\"Std\">Std</th>\n",
       "    </tr>\n",
       "  </thead>\n",
       "  <tbody>\n",
       "    <tr>\n",
       "      <th>0</th>\n",
       "      <td>Score4</td>\n",
       "      <td>3.120667</td>\n",
       "      <td>5.241822</td>\n",
       "    </tr>\n",
       "    <tr>\n",
       "      <th>1</th>\n",
       "      <td>Score9</td>\n",
       "      <td>2.941362</td>\n",
       "      <td>3.045962</td>\n",
       "    </tr>\n",
       "    <tr>\n",
       "      <th>2</th>\n",
       "      <td>Score5</td>\n",
       "      <td>2.937069</td>\n",
       "      <td>2.816182</td>\n",
       "    </tr>\n",
       "    <tr>\n",
       "      <th>3</th>\n",
       "      <td>Score8</td>\n",
       "      <td>2.585144</td>\n",
       "      <td>2.075825</td>\n",
       "    </tr>\n",
       "    <tr>\n",
       "      <th>4</th>\n",
       "      <td>Score10</td>\n",
       "      <td>2.016201</td>\n",
       "      <td>2.379904</td>\n",
       "    </tr>\n",
       "    <tr>\n",
       "      <th>5</th>\n",
       "      <td>Score3</td>\n",
       "      <td>1.964610</td>\n",
       "      <td>1.879894</td>\n",
       "    </tr>\n",
       "    <tr>\n",
       "      <th>6</th>\n",
       "      <td>Score1</td>\n",
       "      <td>1.173665</td>\n",
       "      <td>2.129846</td>\n",
       "    </tr>\n",
       "    <tr>\n",
       "      <th>7</th>\n",
       "      <td>Score11</td>\n",
       "      <td>1.128538</td>\n",
       "      <td>2.170343</td>\n",
       "    </tr>\n",
       "    <tr>\n",
       "      <th>8</th>\n",
       "      <td>Score7</td>\n",
       "      <td>1.097764</td>\n",
       "      <td>2.039082</td>\n",
       "    </tr>\n",
       "    <tr>\n",
       "      <th>9</th>\n",
       "      <td>Score2</td>\n",
       "      <td>0.976343</td>\n",
       "      <td>1.690928</td>\n",
       "    </tr>\n",
       "    <tr>\n",
       "      <th>10</th>\n",
       "      <td>Score12</td>\n",
       "      <td>0.940841</td>\n",
       "      <td>1.232729</td>\n",
       "    </tr>\n",
       "    <tr>\n",
       "      <th>11</th>\n",
       "      <td>Score6</td>\n",
       "      <td>0.558749</td>\n",
       "      <td>2.455324</td>\n",
       "    </tr>\n",
       "  </tbody>\n",
       "</table>\n",
       "</div>\n",
       "</div>\n",
       "<div class=\"cas-results-key\"><hr/><b>&#167; OutputCasTables</b></div>\n",
       "<div class=\"cas-results-body\">\n",
       "<div>\n",
       "<table border=\"1\" class=\"dataframe\">\n",
       "  <thead>\n",
       "    <tr style=\"text-align: right;\">\n",
       "      <th title=\"\"></th>\n",
       "      <th title=\"CAS Library\">casLib</th>\n",
       "      <th title=\"Name\">Name</th>\n",
       "      <th title=\"Number of Rows\">Rows</th>\n",
       "      <th title=\"Number of Columns\">Columns</th>\n",
       "      <th title=\"Table\">casTable</th>\n",
       "    </tr>\n",
       "  </thead>\n",
       "  <tbody>\n",
       "    <tr>\n",
       "      <th>0</th>\n",
       "      <td>htsasfin</td>\n",
       "      <td>forest_pca_score_model</td>\n",
       "      <td>686</td>\n",
       "      <td>29</td>\n",
       "      <td>CASTable('forest_pca_score_model', caslib='hts...</td>\n",
       "    </tr>\n",
       "  </tbody>\n",
       "</table>\n",
       "</div>\n",
       "</div>\n",
       "<div class=\"cas-output-area\"></div>\n",
       "<p class=\"cas-results-performance\"><small><span class=\"cas-elapsed\">elapsed 0.314s</span> &#183; <span class=\"cas-user\">user 0.143s</span> &#183; <span class=\"cas-sys\">sys 0.268s</span> &#183; <span class=\"cas-memory\">mem 18.5MB</span></small></p>"
      ],
      "text/plain": [
       "[ModelInfo]\n",
       "\n",
       " Forest for SURVEY_TOPICS_PCAV_PART\n",
       " \n",
       "                                Descr         Value\n",
       " 0                    Number of Trees     50.000000\n",
       " 1   Number of Selected Variables (M)      4.000000\n",
       " 2                 Random Number Seed  42042.000000\n",
       " 3           Bootstrap Percentage (%)     70.000000\n",
       " 4                     Number of Bins     20.000000\n",
       " 5                Number of Variables     12.000000\n",
       " 6       Confidence Level for Pruning      0.250000\n",
       " 7           Max Number of Tree Nodes     23.000000\n",
       " 8           Min Number of Tree Nodes     11.000000\n",
       " 9             Max Number of Branches      2.000000\n",
       " 10            Min Number of Branches      2.000000\n",
       " 11              Max Number of Levels      6.000000\n",
       " 12              Min Number of Levels      6.000000\n",
       " 13              Max Number of Leaves     12.000000\n",
       " 14              Min Number of Leaves      6.000000\n",
       " 15            Maximum Size of Leaves     97.000000\n",
       " 16            Minimum Size of Leaves      5.000000\n",
       " 17                Out-of-Bag MCR (%)     25.263158\n",
       "\n",
       "[ErrorMetricInfo]\n",
       "\n",
       "     TreeID  Trees  NLeaves       MCR   LogLoss       ASE      RASE  MAXAE\n",
       " 0      0.0    1.0      9.0  0.313131  7.210115  0.313131  0.559581    1.0\n",
       " 1      1.0    2.0     15.0  0.315068  6.072698  0.339041  0.582272    1.0\n",
       " 2      2.0    3.0     24.0  0.348837  6.378245  0.389050  0.623739    1.0\n",
       " 3      3.0    4.0     33.0  0.311111  6.038326  0.389390  0.624012    1.0\n",
       " 4      4.0    5.0     39.0  0.326087  5.533670  0.409681  0.640064    1.0\n",
       " 5      5.0    6.0     47.0  0.294118  3.256482  0.403030  0.634847    1.0\n",
       " 6      6.0    7.0     54.0  0.294737  2.514969  0.424227  0.651327    1.0\n",
       " 7      7.0    8.0     61.0  0.315789  2.437238  0.437958  0.661784    1.0\n",
       " 8      8.0    9.0     68.0  0.305263  1.998143  0.435324  0.659791    1.0\n",
       " 9      9.0   10.0     77.0  0.321053  2.012284  0.442142  0.664938    1.0\n",
       " 10    10.0   11.0     83.0  0.321053  1.908781  0.445258  0.667276    1.0\n",
       " 11    11.0   12.0     90.0  0.310526  1.907306  0.443886  0.666247    1.0\n",
       " 12    12.0   13.0     96.0  0.300000  1.927510  0.450802  0.671418    1.0\n",
       " 13    13.0   14.0    104.0  0.305263  1.829312  0.455326  0.674778    1.0\n",
       " 14    14.0   15.0    110.0  0.310526  1.832788  0.454708  0.674321    1.0\n",
       " 15    15.0   16.0    116.0  0.305263  1.837081  0.454429  0.674113    1.0\n",
       " 16    16.0   17.0    125.0  0.278947  1.825967  0.450140  0.670925    1.0\n",
       " 17    17.0   18.0    132.0  0.278947  1.847488  0.457192  0.676159    1.0\n",
       " 18    18.0   19.0    138.0  0.278947  1.649028  0.459688  0.678003    1.0\n",
       " 19    19.0   20.0    147.0  0.284211  1.663101  0.464449  0.681505    1.0\n",
       " 20    20.0   21.0    155.0  0.305263  1.667367  0.464277  0.681379    1.0\n",
       " 21    21.0   22.0    161.0  0.294737  1.567114  0.464295  0.681392    1.0\n",
       " 22    22.0   23.0    167.0  0.294737  1.564364  0.462558  0.680116    1.0\n",
       " 23    23.0   24.0    175.0  0.289474  1.571130  0.463583  0.680869    1.0\n",
       " 24    24.0   25.0    182.0  0.284211  1.570502  0.462102  0.679781    1.0\n",
       " 25    25.0   26.0    189.0  0.284211  1.455628  0.459914  0.678169    1.0\n",
       " 26    26.0   27.0    196.0  0.294737  1.440320  0.457145  0.676125    1.0\n",
       " 27    27.0   28.0    203.0  0.294737  1.438782  0.458681  0.677260    1.0\n",
       " 28    28.0   29.0    210.0  0.294737  1.438970  0.461366  0.679239    1.0\n",
       " 29    29.0   30.0    219.0  0.289474  1.428101  0.458000  0.676757    1.0\n",
       " 30    30.0   31.0    226.0  0.289474  1.431861  0.458004  0.676760    1.0\n",
       " 31    31.0   32.0    233.0  0.289474  1.323049  0.456956  0.675986    1.0\n",
       " 32    32.0   33.0    240.0  0.273684  1.309355  0.455098  0.674610    1.0\n",
       " 33    33.0   34.0    248.0  0.278947  1.308449  0.456711  0.675804    1.0\n",
       " 34    34.0   35.0    256.0  0.268421  1.302830  0.453831  0.673670    1.0\n",
       " 35    35.0   36.0    263.0  0.273684  1.296863  0.452304  0.672535    1.0\n",
       " 36    36.0   37.0    269.0  0.284211  1.299071  0.452797  0.672902    1.0\n",
       " 37    37.0   38.0    281.0  0.278947  1.293724  0.451968  0.672285    1.0\n",
       " 38    38.0   39.0    288.0  0.273684  1.295295  0.451329  0.671810    1.0\n",
       " 39    39.0   40.0    294.0  0.273684  1.289430  0.449082  0.670136    1.0\n",
       " 40    40.0   41.0    303.0  0.278947  1.293192  0.450946  0.671525    1.0\n",
       " 41    41.0   42.0    309.0  0.273684  1.297066  0.452150  0.672421    1.0\n",
       " 42    42.0   43.0    316.0  0.278947  1.297277  0.452031  0.672332    1.0\n",
       " 43    43.0   44.0    322.0  0.278947  1.294854  0.452009  0.672316    1.0\n",
       " 44    44.0   45.0    329.0  0.273684  1.296746  0.453694  0.673568    1.0\n",
       " 45    45.0   46.0    335.0  0.263158  1.298807  0.453793  0.673641    1.0\n",
       " 46    46.0   47.0    344.0  0.252632  1.298726  0.453927  0.673741    1.0\n",
       " 47    47.0   48.0    355.0  0.257895  1.294129  0.452579  0.672740    1.0\n",
       " 48    48.0   49.0    361.0  0.257895  1.295559  0.452434  0.672632    1.0\n",
       " 49    49.0   50.0    368.0  0.252632  1.295893  0.451796  0.672158    1.0\n",
       "\n",
       "[DTreeVarImpInfo]\n",
       "\n",
       " Forest for SURVEY_TOPICS_PCAV_PART\n",
       " \n",
       "    Variable  Importance       Std\n",
       " 0    Score4    3.120667  5.241822\n",
       " 1    Score9    2.941362  3.045962\n",
       " 2    Score5    2.937069  2.816182\n",
       " 3    Score8    2.585144  2.075825\n",
       " 4   Score10    2.016201  2.379904\n",
       " 5    Score3    1.964610  1.879894\n",
       " 6    Score1    1.173665  2.129846\n",
       " 7   Score11    1.128538  2.170343\n",
       " 8    Score7    1.097764  2.039082\n",
       " 9    Score2    0.976343  1.690928\n",
       " 10  Score12    0.940841  1.232729\n",
       " 11   Score6    0.558749  2.455324\n",
       "\n",
       "[OutputCasTables]\n",
       "\n",
       "      casLib                    Name  Rows  Columns  \\\n",
       " 0  htsasfin  forest_pca_score_model   686       29   \n",
       " \n",
       "                                             casTable  \n",
       " 0  CASTable('forest_pca_score_model', caslib='hts...  \n",
       "\n",
       "+ Elapsed: 0.314s, user: 0.143s, sys: 0.268s, mem: 18.5mb"
      ]
     },
     "metadata": {},
     "output_type": "display_data"
    }
   ],
   "source": [
    "sms_forest = sess.foresttrain(\n",
    "            table={'caslib':'HTSASFIN','name':'SURVEY_TOPICS_PCAV_PART','where':'_partind_ = 0'},\n",
    "            target='target',\n",
    "            nominals=['target'],\n",
    "            inputs=['Score1','Score2','Score3','Score4','Score5','Score6',\n",
    "                    'Score7','Score8','Score9','Score10','Score11','Score12'],\n",
    "            bootstrap=.7,\n",
    "            casOut={'caslib':'htsasfin','name':'forest_pca_score_model','promote':True},\n",
    "            varImp='True',\n",
    "            seed=42042,\n",
    "            oob=True\n",
    "            )\n",
    "forestModel = sess.CASTable(caslib='htsasfin',name='forest_pca_score_model')\n",
    "\n",
    "display(sms_forest)"
   ]
  },
  {
   "cell_type": "code",
   "execution_count": 21,
   "metadata": {
    "collapsed": false,
    "nbpresent": {
     "id": "2242670a-66eb-422c-8e07-a9e1f26c3e77"
    }
   },
   "outputs": [
    {
     "data": {
      "text/plain": [
       "<matplotlib.axes._subplots.AxesSubplot at 0x7f8c863a9748>"
      ]
     },
     "execution_count": 21,
     "metadata": {},
     "output_type": "execute_result"
    },
    {
     "data": {
      "image/png": "[encoded data removed]",
      "text/plain": [
       "<matplotlib.figure.Figure at 0x7f8c863ace80>"
      ]
     },
     "metadata": {},
     "output_type": "display_data"
    }
   ],
   "source": [
    "sms_forest.get('DTreeVarImpInfo').plot.bar()\n",
    "#need to label the x axis"
   ]
  },
  {
   "cell_type": "code",
   "execution_count": 23,
   "metadata": {
    "collapsed": false,
    "nbpresent": {
     "id": "c78cbfd4-c45e-4602-84fa-00e6cafb173d"
    }
   },
   "outputs": [
    {
     "data": {
      "text/html": [
       "<div class=\"cas-results-key\"><b>&#167; OutputCasTables</b></div>\n",
       "<div class=\"cas-results-body\">\n",
       "<div>\n",
       "<table border=\"1\" class=\"dataframe\">\n",
       "  <thead>\n",
       "    <tr style=\"text-align: right;\">\n",
       "      <th title=\"\"></th>\n",
       "      <th title=\"CAS Library\">casLib</th>\n",
       "      <th title=\"Name\">Name</th>\n",
       "      <th title=\"Number of Rows\">Rows</th>\n",
       "      <th title=\"Number of Columns\">Columns</th>\n",
       "      <th title=\"Table\">casTable</th>\n",
       "    </tr>\n",
       "  </thead>\n",
       "  <tbody>\n",
       "    <tr>\n",
       "      <th>0</th>\n",
       "      <td>CASUSERHDFS(scroker)</td>\n",
       "      <td>sms_topics_forestScored</td>\n",
       "      <td>48</td>\n",
       "      <td>7</td>\n",
       "      <td>CASTable('sms_topics_forestScored', caslib='CA...</td>\n",
       "    </tr>\n",
       "  </tbody>\n",
       "</table>\n",
       "</div>\n",
       "</div>\n",
       "<div class=\"cas-results-key\"><hr/><b>&#167; ScoreInfo</b></div>\n",
       "<div class=\"cas-results-body\">\n",
       "<div>\n",
       "<table border=\"1\" class=\"dataframe\">\n",
       "  <thead>\n",
       "    <tr style=\"text-align: right;\">\n",
       "      <th title=\"\"></th>\n",
       "      <th title=\"Descr\">Descr</th>\n",
       "      <th title=\"Value\">Value</th>\n",
       "    </tr>\n",
       "  </thead>\n",
       "  <tbody>\n",
       "    <tr>\n",
       "      <th>0</th>\n",
       "      <td>Number of Observations Read</td>\n",
       "      <td>48</td>\n",
       "    </tr>\n",
       "    <tr>\n",
       "      <th>1</th>\n",
       "      <td>Number of Observations Used</td>\n",
       "      <td>48</td>\n",
       "    </tr>\n",
       "    <tr>\n",
       "      <th>2</th>\n",
       "      <td>Misclassification Error (%)</td>\n",
       "      <td>16.666666667</td>\n",
       "    </tr>\n",
       "  </tbody>\n",
       "</table>\n",
       "</div>\n",
       "</div>\n",
       "<div class=\"cas-output-area\"></div>\n",
       "<p class=\"cas-results-performance\"><small><span class=\"cas-elapsed\">elapsed 0.266s</span> &#183; <span class=\"cas-user\">user 0.067s</span> &#183; <span class=\"cas-sys\">sys 0.106s</span> &#183; <span class=\"cas-memory\">mem 28.8MB</span></small></p>"
      ],
      "text/plain": [
       "[OutputCasTables]\n",
       "\n",
       "                  casLib                     Name  Rows  Columns  \\\n",
       " 0  CASUSERHDFS(scroker)  sms_topics_forestScored    48        7   \n",
       " \n",
       "                                             casTable  \n",
       " 0  CASTable('sms_topics_forestScored', caslib='CA...  \n",
       "\n",
       "[ScoreInfo]\n",
       "\n",
       "                          Descr         Value\n",
       " 0  Number of Observations Read            48\n",
       " 1  Number of Observations Used            48\n",
       " 2  Misclassification Error (%)  16.666666667\n",
       "\n",
       "+ Elapsed: 0.266s, user: 0.067s, sys: 0.106s, mem: 28.8mb"
      ]
     },
     "execution_count": 23,
     "metadata": {},
     "output_type": "execute_result"
    }
   ],
   "source": [
    "sess.forestScore(\n",
    "    table={'caslib':'htsasfin','name':'SURVEY_TOPICS_PCAV_PART','where':'_partind_ = 1'},\n",
    "    modelTable={'caslib':'htsasfin','name':'forest_pca_score_model'},\n",
    "    copyVars=['_partind_','target'],\n",
    "    casOut={'name':'sms_topics_forestScored','replace':True},\n",
    "    vote='prob'\n",
    ")"
   ]
  },
  {
   "cell_type": "code",
   "execution_count": 24,
   "metadata": {
    "collapsed": false,
    "nbpresent": {
     "id": "2dcb985f-0a51-4f65-804d-3f2407b72b0a"
    }
   },
   "outputs": [
    {
     "name": "stdout",
     "output_type": "stream",
     "text": [
      "NOTE: Added action set 'percentile'.\n"
     ]
    }
   ],
   "source": [
    "sms_forest_scored = sess.CASTable('sms_topics_forestScored')\n",
    "sms_forest_scored.computedVars=[\"P0\",\"P1\"]\n",
    "sms_forest_scored.computedVarsProgram='''\n",
    "   if '1' eq strip(_RF_PredName_) then do;\n",
    "     P1 = _RF_PredP_;\n",
    "     P0 = 1 - _RF_PredP_;\n",
    "   end;\n",
    "   else do;\n",
    "     P1 = 1 - _RF_PredP_;\n",
    "     P0 = _RF_PredP_;\n",
    "   end;\n",
    "'''"
   ]
  },
  {
   "cell_type": "code",
   "execution_count": 25,
   "metadata": {
    "collapsed": false,
    "nbpresent": {
     "id": "32afec1c-5eb6-4ca7-ae6c-2116c955f845"
    }
   },
   "outputs": [
    {
     "data": {
      "text/html": [
       "<div class=\"cas-results-key\"><b>&#167; OutputCasTables</b></div>\n",
       "<div class=\"cas-results-body\">\n",
       "<div>\n",
       "<table border=\"1\" class=\"dataframe\">\n",
       "  <thead>\n",
       "    <tr style=\"text-align: right;\">\n",
       "      <th title=\"\"></th>\n",
       "      <th title=\"CAS Library\">casLib</th>\n",
       "      <th title=\"Name\">Name</th>\n",
       "      <th title=\"Number of Rows\">Rows</th>\n",
       "      <th title=\"Number of Columns\">Columns</th>\n",
       "      <th title=\"Table\">casTable</th>\n",
       "    </tr>\n",
       "  </thead>\n",
       "  <tbody>\n",
       "    <tr>\n",
       "      <th>0</th>\n",
       "      <td>CASUSERHDFS(scroker)</td>\n",
       "      <td>forestAssess</td>\n",
       "      <td>10</td>\n",
       "      <td>21</td>\n",
       "      <td>CASTable('forestAssess', caslib='CASUSERHDFS(s...</td>\n",
       "    </tr>\n",
       "    <tr>\n",
       "      <th>1</th>\n",
       "      <td>CASUSERHDFS(scroker)</td>\n",
       "      <td>forest_roc</td>\n",
       "      <td>100</td>\n",
       "      <td>20</td>\n",
       "      <td>CASTable('forest_roc', caslib='CASUSERHDFS(scr...</td>\n",
       "    </tr>\n",
       "    <tr>\n",
       "      <th>2</th>\n",
       "      <td>CASUSERHDFS(scroker)</td>\n",
       "      <td>forestAssess_FITSTAT</td>\n",
       "      <td>1</td>\n",
       "      <td>6</td>\n",
       "      <td>CASTable('forestAssess_FITSTAT', caslib='CASUS...</td>\n",
       "    </tr>\n",
       "  </tbody>\n",
       "</table>\n",
       "</div>\n",
       "</div>\n",
       "<div class=\"cas-output-area\"></div>\n",
       "<p class=\"cas-results-performance\"><small><span class=\"cas-elapsed\">elapsed 0.263s</span> &#183; <span class=\"cas-user\">user 0.072s</span> &#183; <span class=\"cas-sys\">sys 0.139s</span> &#183; <span class=\"cas-memory\">mem 8.58MB</span></small></p>"
      ],
      "text/plain": [
       "[OutputCasTables]\n",
       "\n",
       "                  casLib                  Name  Rows  Columns  \\\n",
       " 0  CASUSERHDFS(scroker)          forestAssess    10       21   \n",
       " 1  CASUSERHDFS(scroker)            forest_roc   100       20   \n",
       " 2  CASUSERHDFS(scroker)  forestAssess_FITSTAT     1        6   \n",
       " \n",
       "                                             casTable  \n",
       " 0  CASTable('forestAssess', caslib='CASUSERHDFS(s...  \n",
       " 1  CASTable('forest_roc', caslib='CASUSERHDFS(scr...  \n",
       " 2  CASTable('forestAssess_FITSTAT', caslib='CASUS...  \n",
       "\n",
       "+ Elapsed: 0.263s, user: 0.072s, sys: 0.139s, mem: 8.58mb"
      ]
     },
     "execution_count": 25,
     "metadata": {},
     "output_type": "execute_result"
    }
   ],
   "source": [
    "sms_forest_scored.percentile.assess(\n",
    "    casOut={\"name\":\"forestAssess\", \"replace\":True},\n",
    "    nbins=10,\n",
    "    cutStep = 0.01,\n",
    "    inputs=['P1'],\n",
    "    response='target', \n",
    "    event='1', \n",
    "    pVar=['P0'], \n",
    "    pEvent='0',\n",
    "    includeLift=True,\n",
    "    rocOut={'name':'forest_roc','replace':True}\n",
    ")"
   ]
  },
  {
   "cell_type": "code",
   "execution_count": 28,
   "metadata": {
    "collapsed": false,
    "nbpresent": {
     "id": "e415db08-5977-4a33-bf78-15bb537df3bf"
    }
   },
   "outputs": [],
   "source": [
    "forest_ROC = sess.CASTable('forest_ROC').to_frame()"
   ]
  },
  {
   "cell_type": "code",
   "execution_count": 30,
   "metadata": {
    "collapsed": false,
    "nbpresent": {
     "id": "2e40209e-2135-4944-aa70-acbc133c3ae8"
    },
    "scrolled": true
   },
   "outputs": [
    {
     "data": {
      "image/png": "[encoded data removed]",
      "text/plain": [
       "<matplotlib.figure.Figure at 0x7f8c85f35588>"
      ]
     },
     "metadata": {},
     "output_type": "display_data"
    }
   ],
   "source": [
    "plt.figure(figsize=(4,4))\n",
    "plt.plot(forest_ROC._FPR_,forest_ROC._Sensitivity_,'bo-',linewidth=2)\n",
    "plt.plot(pd.Series(range(0,11,1))/10,pd.Series(range(0,11,1))/10,'k--',linewidth=1)\n",
    "plt.xlabel('False Positive Rate')\n",
    "plt.ylabel('Correct Classification Rate')\n",
    "plt.grid(True)\n",
    "plt.title('ROC Curve')\n",
    "plt.show()"
   ]
  },
  {
   "cell_type": "code",
   "execution_count": 6,
   "metadata": {
    "collapsed": false,
    "nbpresent": {
     "id": "515903ea-c0dc-4e2f-b7b9-b90fda5577f0"
    }
   },
   "outputs": [
    {
     "ename": "NameError",
     "evalue": "name 'sms_forest_scored' is not defined",
     "output_type": "error",
     "traceback": [
      "\u001b[1;31m\u001b[0m",
      "\u001b[1;31mNameError\u001b[0mTraceback (most recent call last)",
      "\u001b[1;32m<ipython-input-6-163022649bfa>\u001b[0m in \u001b[0;36m<module>\u001b[1;34m()\u001b[0m\n\u001b[1;32m----> 1\u001b[1;33m \u001b[0ms\u001b[0m \u001b[1;33m=\u001b[0m \u001b[0mpd\u001b[0m\u001b[1;33m.\u001b[0m\u001b[0mDataFrame\u001b[0m\u001b[1;33m(\u001b[0m\u001b[0msms_forest_scored\u001b[0m\u001b[1;33m.\u001b[0m\u001b[0mto_frame\u001b[0m\u001b[1;33m(\u001b[0m\u001b[1;33m)\u001b[0m\u001b[1;33m)\u001b[0m\u001b[1;33m\u001b[0m\u001b[0m\n\u001b[0m\u001b[0;32m      2\u001b[0m \u001b[0mpd\u001b[0m\u001b[1;33m.\u001b[0m\u001b[0mcrosstab\u001b[0m\u001b[1;33m(\u001b[0m\u001b[0ms\u001b[0m\u001b[1;33m.\u001b[0m\u001b[0mtarget\u001b[0m\u001b[1;33m,\u001b[0m\u001b[0ms\u001b[0m\u001b[1;33m.\u001b[0m\u001b[0m_RF_PredName_\u001b[0m\u001b[1;33m)\u001b[0m\u001b[1;33m\u001b[0m\u001b[0m\n",
      "\u001b[1;31mNameError\u001b[0m: name 'sms_forest_scored' is not defined"
     ]
    }
   ],
   "source": [
    "s = pd.DataFrame(sms_forest_scored.to_frame())\n",
    "pd.crosstab(s.target,s._RF_PredName_)"
   ]
  },
  {
   "cell_type": "code",
   "execution_count": 32,
   "metadata": {
    "collapsed": true,
    "nbpresent": {
     "id": "af4eaba9-730a-4e8f-aae7-edec345f7d9f"
    }
   },
   "outputs": [],
   "source": [
    "sess.close()"
   ]
  },
  {
   "cell_type": "code",
   "execution_count": null,
   "metadata": {
    "collapsed": true,
    "nbpresent": {
     "id": "81f70732-3e3d-424a-92e1-fa0662a852bf"
    }
   },
   "outputs": [],
   "source": []
  }
 ],
 "metadata": {
  "anaconda-cloud": {},
  "kernelspec": {
   "display_name": "Python 3",
   "language": "python",
   "name": "python3"
  },
  "language_info": {
   "codemirror_mode": {
    "name": "ipython",
    "version": 3
   },
   "file_extension": ".py",
   "mimetype": "text/x-python",
   "name": "python",
   "nbconvert_exporter": "python",
   "pygments_lexer": "ipython3",
   "version": "3.6.0"
  },
  "nbpresent": {
   "slides": {
    "00824529-4321-40cd-a075-d08b6430684f": {
     "id": "00824529-4321-40cd-a075-d08b6430684f",
     "prev": "1be52b8c-6440-4a50-977b-90ba9aec996c",
     "regions": {
      "048f2158-93a2-463a-aa17-f8d9c1c518fb": {
       "attrs": {
        "height": 0.8,
        "width": 0.8,
        "x": 0.1,
        "y": 0.1
       },
       "content": {
        "cell": "af4eaba9-730a-4e8f-aae7-edec345f7d9f",
        "part": "whole"
       },
       "id": "048f2158-93a2-463a-aa17-f8d9c1c518fb"
      }
     }
    },
    "03fdc96a-7083-4c42-99e7-5eb12b9cb19f": {
     "id": "03fdc96a-7083-4c42-99e7-5eb12b9cb19f",
     "prev": "408683db-8996-4aa2-ab6f-72356afe1966",
     "regions": {
      "4c0fc377-3107-40bf-a903-f9deb05c0c69": {
       "attrs": {
        "height": 0.8,
        "width": 0.8,
        "x": 0.1,
        "y": 0.1
       },
       "content": {
        "cell": "cf7d1039-ad04-4666-afdb-d7331d965e83",
        "part": "whole"
       },
       "id": "4c0fc377-3107-40bf-a903-f9deb05c0c69"
      }
     }
    },
    "173f8f2c-7d2e-44d1-8ca1-702b0d3f5a86": {
     "id": "173f8f2c-7d2e-44d1-8ca1-702b0d3f5a86",
     "prev": "7e769979-4d83-4788-bff8-d17528d7062c",
     "regions": {
      "263845ef-7620-4ba1-b411-aa72d015fe2a": {
       "attrs": {
        "height": 0.8,
        "width": 0.8,
        "x": 0.1,
        "y": 0.1
       },
       "content": {
        "cell": "4218d265-45b2-476f-8018-798d5aa82004",
        "part": "whole"
       },
       "id": "263845ef-7620-4ba1-b411-aa72d015fe2a"
      }
     }
    },
    "1be52b8c-6440-4a50-977b-90ba9aec996c": {
     "id": "1be52b8c-6440-4a50-977b-90ba9aec996c",
     "prev": "a04cda9c-bb46-4fc3-ba54-5090f6da64f6",
     "regions": {
      "56ae1818-6d9b-4afd-8662-c1842c88e029": {
       "attrs": {
        "height": 0.8,
        "width": 0.8,
        "x": 0.1,
        "y": 0.1
       },
       "content": {
        "cell": "515903ea-c0dc-4e2f-b7b9-b90fda5577f0",
        "part": "whole"
       },
       "id": "56ae1818-6d9b-4afd-8662-c1842c88e029"
      }
     }
    },
    "1c970474-caa3-4734-8164-e5123716fb46": {
     "id": "1c970474-caa3-4734-8164-e5123716fb46",
     "prev": "5e0c3c03-b306-4096-b0cd-a881eef76b76",
     "regions": {
      "62a5d2d9-c61b-4751-b02d-50b81c1c2321": {
       "attrs": {
        "height": 0.8,
        "width": 0.8,
        "x": 0.1,
        "y": 0.1
       },
       "content": {
        "cell": "ba067eb1-9c1b-4d9a-b22f-6df5293e7daf",
        "part": "whole"
       },
       "id": "62a5d2d9-c61b-4751-b02d-50b81c1c2321"
      }
     }
    },
    "2717d552-6742-46f8-80eb-817752ddd498": {
     "id": "2717d552-6742-46f8-80eb-817752ddd498",
     "prev": "e88b9536-beef-4f9d-99f0-25032fb4a631",
     "regions": {
      "bbb0f05a-8d1d-4c0f-9c1e-562ba9dd6ea5": {
       "attrs": {
        "height": 0.8,
        "width": 0.8,
        "x": 0.1,
        "y": 0.1
       },
       "content": {
        "cell": "0f178fdf-21be-49a0-abb1-f53a3952165a",
        "part": "whole"
       },
       "id": "bbb0f05a-8d1d-4c0f-9c1e-562ba9dd6ea5"
      }
     }
    },
    "2926d6ee-35d5-484b-bb25-74641d24a2ee": {
     "id": "2926d6ee-35d5-484b-bb25-74641d24a2ee",
     "prev": "8bd23627-0af9-4cae-9abe-e2fb16fd1cf3",
     "regions": {
      "55e3badd-0866-42b4-8333-0dfd70fa34bf": {
       "attrs": {
        "height": 0.8,
        "width": 0.8,
        "x": 0.1,
        "y": 0.1
       },
       "content": {
        "cell": "6c88323c-e4ad-4c54-aaff-a65a039cab4b",
        "part": "whole"
       },
       "id": "55e3badd-0866-42b4-8333-0dfd70fa34bf"
      }
     }
    },
    "3e3276ea-8062-42bd-a251-f325ec010f89": {
     "id": "3e3276ea-8062-42bd-a251-f325ec010f89",
     "prev": "2717d552-6742-46f8-80eb-817752ddd498",
     "regions": {
      "02cad172-ff59-448c-bb67-ce6d02ee901b": {
       "attrs": {
        "height": 0.8,
        "width": 0.8,
        "x": 0.1,
        "y": 0.1
       },
       "content": {
        "cell": "e2f5ed86-3ddb-47a0-a85e-9f02db25759f",
        "part": "whole"
       },
       "id": "02cad172-ff59-448c-bb67-ce6d02ee901b"
      }
     }
    },
    "408683db-8996-4aa2-ab6f-72356afe1966": {
     "id": "408683db-8996-4aa2-ab6f-72356afe1966",
     "prev": "72829a2b-f042-4d5e-84c7-84fe964e87ad",
     "regions": {
      "441bdd89-ef2e-4208-9eed-82f033776129": {
       "attrs": {
        "height": 0.8,
        "width": 0.8,
        "x": 0.1,
        "y": 0.1
       },
       "content": {
        "cell": "d67e6655-6495-4062-9923-0aa9a469b7f3",
        "part": "whole"
       },
       "id": "441bdd89-ef2e-4208-9eed-82f033776129"
      }
     }
    },
    "41104941-962b-4f55-8dc8-01e8d7e0d7ed": {
     "id": "41104941-962b-4f55-8dc8-01e8d7e0d7ed",
     "prev": "5fa19ef8-1240-4d54-8970-6eadd899d914",
     "regions": {
      "9431c808-c186-4c49-8c0f-097ce982ad92": {
       "attrs": {
        "height": 0.8,
        "width": 0.8,
        "x": 0.1,
        "y": 0.1
       },
       "content": {
        "cell": "9cb5e0ad-b4b4-4491-87a3-7e5734f2667b",
        "part": "whole"
       },
       "id": "9431c808-c186-4c49-8c0f-097ce982ad92"
      }
     }
    },
    "48e1e017-652e-4826-8732-f11c9289169f": {
     "id": "48e1e017-652e-4826-8732-f11c9289169f",
     "prev": "1c970474-caa3-4734-8164-e5123716fb46",
     "regions": {
      "af17ab89-7114-4204-a71b-93e05aeb7eb1": {
       "attrs": {
        "height": 0.8,
        "width": 0.8,
        "x": 0.1,
        "y": 0.1
       },
       "content": {
        "cell": "486b508e-da84-4f19-b5d1-6366ebad8ea8",
        "part": "whole"
       },
       "id": "af17ab89-7114-4204-a71b-93e05aeb7eb1"
      }
     }
    },
    "49f2e611-cf10-41be-bc09-2a3babc609ec": {
     "id": "49f2e611-cf10-41be-bc09-2a3babc609ec",
     "prev": "00824529-4321-40cd-a075-d08b6430684f",
     "regions": {
      "2c01072c-240d-4d74-b9d5-e584d046f049": {
       "attrs": {
        "height": 0.8,
        "width": 0.8,
        "x": 0.1,
        "y": 0.1
       },
       "content": {
        "cell": "81f70732-3e3d-424a-92e1-fa0662a852bf",
        "part": "whole"
       },
       "id": "2c01072c-240d-4d74-b9d5-e584d046f049"
      }
     }
    },
    "49fca47e-3c68-4e63-8b2f-6c48be793a48": {
     "id": "49fca47e-3c68-4e63-8b2f-6c48be793a48",
     "prev": "82dc158b-8b2c-44e6-b675-f29dd4128bf8",
     "regions": {
      "54106825-e6f4-47a8-923f-ba922635e5ac": {
       "attrs": {
        "height": 0.8,
        "width": 0.8,
        "x": 0.1,
        "y": 0.1
       },
       "content": {
        "cell": "c10bff0d-ee1b-4081-8d51-08fbae263503",
        "part": "whole"
       },
       "id": "54106825-e6f4-47a8-923f-ba922635e5ac"
      }
     }
    },
    "5af9c3e9-f6cd-4876-93fc-0217b2706b05": {
     "id": "5af9c3e9-f6cd-4876-93fc-0217b2706b05",
     "prev": "8eeae059-4461-4bf2-84e3-641b00e870ad",
     "regions": {
      "fb860615-af09-47ec-bc61-34a26571c3d4": {
       "attrs": {
        "height": 0.8,
        "width": 0.8,
        "x": 0.1,
        "y": 0.1
       },
       "content": {
        "cell": "e415db08-5977-4a33-bf78-15bb537df3bf",
        "part": "whole"
       },
       "id": "fb860615-af09-47ec-bc61-34a26571c3d4"
      }
     }
    },
    "5e0c3c03-b306-4096-b0cd-a881eef76b76": {
     "id": "5e0c3c03-b306-4096-b0cd-a881eef76b76",
     "prev": "bd2faefd-f94e-497c-b0f6-ae4da2e1512a",
     "regions": {
      "24e4f24e-2238-4b6c-86ee-9dba4b2b4521": {
       "attrs": {
        "height": 0.8,
        "width": 0.8,
        "x": 0.1,
        "y": 0.1
       },
       "content": {
        "cell": "ea6d94b5-e28c-4d91-88e1-8edfa3e8a996",
        "part": "whole"
       },
       "id": "24e4f24e-2238-4b6c-86ee-9dba4b2b4521"
      }
     }
    },
    "5fa19ef8-1240-4d54-8970-6eadd899d914": {
     "id": "5fa19ef8-1240-4d54-8970-6eadd899d914",
     "prev": "830bdef0-f23c-46ef-bb86-1709b3a39f0c",
     "regions": {
      "77a3b5ba-e2f4-4f44-b4bc-442d52cac4e3": {
       "attrs": {
        "height": 0.8,
        "width": 0.8,
        "x": 0.1,
        "y": 0.1
       },
       "content": {
        "cell": "7ae97442-bf96-48f2-8a6e-f89e2eb5a080",
        "part": "whole"
       },
       "id": "77a3b5ba-e2f4-4f44-b4bc-442d52cac4e3"
      }
     }
    },
    "6e8f33ac-5aad-4b7c-be9b-2c81bf70316c": {
     "id": "6e8f33ac-5aad-4b7c-be9b-2c81bf70316c",
     "prev": "e8758255-97af-4745-8d8b-af24485fce24",
     "regions": {
      "7c9e6fa1-ecb6-4288-b7c1-1c89463b09a5": {
       "attrs": {
        "height": 0.8,
        "width": 0.8,
        "x": 0.1,
        "y": 0.1
       },
       "content": {
        "cell": "2dcb985f-0a51-4f65-804d-3f2407b72b0a",
        "part": "whole"
       },
       "id": "7c9e6fa1-ecb6-4288-b7c1-1c89463b09a5"
      }
     }
    },
    "72829a2b-f042-4d5e-84c7-84fe964e87ad": {
     "id": "72829a2b-f042-4d5e-84c7-84fe964e87ad",
     "prev": "cf6ba7bd-6bec-4600-aac3-87f5736ba7b9",
     "regions": {
      "d2a55e57-7dc1-4a65-8dd6-e9c1cb52b9cf": {
       "attrs": {
        "height": 0.8,
        "width": 0.8,
        "x": 0.1,
        "y": 0.1
       },
       "content": {
        "cell": "bfe91ddf-7013-42b8-b68d-da560d3684bf",
        "part": "whole"
       },
       "id": "d2a55e57-7dc1-4a65-8dd6-e9c1cb52b9cf"
      }
     }
    },
    "7e769979-4d83-4788-bff8-d17528d7062c": {
     "id": "7e769979-4d83-4788-bff8-d17528d7062c",
     "prev": "9b3231fc-1d67-49ed-a851-006235e82516",
     "regions": {
      "e14b3148-cf48-4086-9eb2-3a9eec2e20cb": {
       "attrs": {
        "height": 0.8,
        "width": 0.8,
        "x": 0.1,
        "y": 0.1
       },
       "content": {
        "cell": "475e1814-4993-48a2-abcf-419da01f55cd",
        "part": "whole"
       },
       "id": "e14b3148-cf48-4086-9eb2-3a9eec2e20cb"
      }
     }
    },
    "82dc158b-8b2c-44e6-b675-f29dd4128bf8": {
     "id": "82dc158b-8b2c-44e6-b675-f29dd4128bf8",
     "prev": "e0545e8a-4e81-4b69-bd56-efae6c757ad7",
     "regions": {
      "afcf02a9-4c8c-4346-b17d-0da476904bda": {
       "attrs": {
        "height": 0.8,
        "width": 0.8,
        "x": 0.1,
        "y": 0.1
       },
       "content": {
        "cell": "5ee24548-95b5-4fd4-a145-d704bfa90fde",
        "part": "whole"
       },
       "id": "afcf02a9-4c8c-4346-b17d-0da476904bda"
      }
     }
    },
    "830bdef0-f23c-46ef-bb86-1709b3a39f0c": {
     "id": "830bdef0-f23c-46ef-bb86-1709b3a39f0c",
     "prev": "3e3276ea-8062-42bd-a251-f325ec010f89",
     "regions": {
      "da19a80e-cea2-43ba-9364-86d5a157bc51": {
       "attrs": {
        "height": 0.8,
        "width": 0.8,
        "x": 0.1,
        "y": 0.1
       },
       "content": {
        "cell": "4fafc13e-64e3-4cdf-b30c-54929139ab74",
        "part": "whole"
       },
       "id": "da19a80e-cea2-43ba-9364-86d5a157bc51"
      }
     }
    },
    "8bd23627-0af9-4cae-9abe-e2fb16fd1cf3": {
     "id": "8bd23627-0af9-4cae-9abe-e2fb16fd1cf3",
     "prev": "173f8f2c-7d2e-44d1-8ca1-702b0d3f5a86",
     "regions": {
      "f846392b-5aaf-4174-abe5-7fb39410953a": {
       "attrs": {
        "height": 0.8,
        "width": 0.8,
        "x": 0.1,
        "y": 0.1
       },
       "content": {
        "cell": "8435c4f6-a581-4e0d-9418-759cf796c829",
        "part": "whole"
       },
       "id": "f846392b-5aaf-4174-abe5-7fb39410953a"
      }
     }
    },
    "8eeae059-4461-4bf2-84e3-641b00e870ad": {
     "id": "8eeae059-4461-4bf2-84e3-641b00e870ad",
     "prev": "6e8f33ac-5aad-4b7c-be9b-2c81bf70316c",
     "regions": {
      "1c2dccfe-b3fe-4e56-a238-4787898ea8e5": {
       "attrs": {
        "height": 0.8,
        "width": 0.8,
        "x": 0.1,
        "y": 0.1
       },
       "content": {
        "cell": "32afec1c-5eb6-4ca7-ae6c-2116c955f845",
        "part": "whole"
       },
       "id": "1c2dccfe-b3fe-4e56-a238-4787898ea8e5"
      }
     }
    },
    "8ffb4507-c2e6-4311-899b-fa440d5ece9a": {
     "id": "8ffb4507-c2e6-4311-899b-fa440d5ece9a",
     "prev": "03fdc96a-7083-4c42-99e7-5eb12b9cb19f",
     "regions": {
      "0d7ca48c-5396-4ea1-ba27-2d0b4bf26748": {
       "attrs": {
        "height": 0.8,
        "width": 0.8,
        "x": 0.1,
        "y": 0.1
       },
       "content": {
        "cell": "2242670a-66eb-422c-8e07-a9e1f26c3e77",
        "part": "whole"
       },
       "id": "0d7ca48c-5396-4ea1-ba27-2d0b4bf26748"
      }
     }
    },
    "9b3231fc-1d67-49ed-a851-006235e82516": {
     "id": "9b3231fc-1d67-49ed-a851-006235e82516",
     "prev": "9c8cbdb2-5eda-4e0c-9f4c-8f67a7f9ac62",
     "regions": {
      "9d6ec02b-5a01-4fe5-9650-b757f91d1bcc": {
       "attrs": {
        "height": 0.8,
        "width": 0.8,
        "x": 0.1,
        "y": 0.1
       },
       "content": {
        "cell": "676d8579-9fc1-41df-a69e-ae0966df31c8",
        "part": "whole"
       },
       "id": "9d6ec02b-5a01-4fe5-9650-b757f91d1bcc"
      }
     }
    },
    "9c8cbdb2-5eda-4e0c-9f4c-8f67a7f9ac62": {
     "id": "9c8cbdb2-5eda-4e0c-9f4c-8f67a7f9ac62",
     "prev": "f6accea6-099f-4cd5-864e-7557e428b4ec",
     "regions": {
      "a29315c6-ba9b-4046-aba9-b6fe1a727038": {
       "attrs": {
        "height": 0.8,
        "width": 0.8,
        "x": 0.1,
        "y": 0.1
       },
       "content": {
        "cell": "0f1d88b2-a450-4ee2-bbb4-1848d3d11d76",
        "part": "whole"
       },
       "id": "a29315c6-ba9b-4046-aba9-b6fe1a727038"
      }
     }
    },
    "a04cda9c-bb46-4fc3-ba54-5090f6da64f6": {
     "id": "a04cda9c-bb46-4fc3-ba54-5090f6da64f6",
     "prev": "5af9c3e9-f6cd-4876-93fc-0217b2706b05",
     "regions": {
      "af6af3c4-1d22-4098-9e0f-e6a45b754c2e": {
       "attrs": {
        "height": 0.8,
        "width": 0.8,
        "x": 0.1,
        "y": 0.1
       },
       "content": {
        "cell": "2e40209e-2135-4944-aa70-acbc133c3ae8",
        "part": "whole"
       },
       "id": "af6af3c4-1d22-4098-9e0f-e6a45b754c2e"
      }
     }
    },
    "b22e9ff0-81e5-42de-b15e-d57bd5cb8a06": {
     "id": "b22e9ff0-81e5-42de-b15e-d57bd5cb8a06",
     "prev": "2926d6ee-35d5-484b-bb25-74641d24a2ee",
     "regions": {
      "8a1fac05-26ce-4cda-a4dd-32e5261cbfb0": {
       "attrs": {
        "height": 0.8,
        "width": 0.8,
        "x": 0.1,
        "y": 0.1
       },
       "content": {
        "cell": "ea332359-43d1-469c-8e9c-1af3fc564e46",
        "part": "whole"
       },
       "id": "8a1fac05-26ce-4cda-a4dd-32e5261cbfb0"
      }
     }
    },
    "bd2faefd-f94e-497c-b0f6-ae4da2e1512a": {
     "id": "bd2faefd-f94e-497c-b0f6-ae4da2e1512a",
     "prev": "b22e9ff0-81e5-42de-b15e-d57bd5cb8a06",
     "regions": {
      "f3049c3e-da5a-4a19-82ef-0ed863fbdb81": {
       "attrs": {
        "height": 0.8,
        "width": 0.8,
        "x": 0.1,
        "y": 0.1
       },
       "content": {
        "cell": "8f12fbbc-92e6-47b8-aebe-4108f4808016",
        "part": "whole"
       },
       "id": "f3049c3e-da5a-4a19-82ef-0ed863fbdb81"
      }
     }
    },
    "ccfc510b-23af-47c8-8c96-0440d4b52003": {
     "id": "ccfc510b-23af-47c8-8c96-0440d4b52003",
     "prev": "df6af56c-6430-4de6-80a9-cdb642ed0099",
     "regions": {
      "9d1fcb47-3843-47a4-b17e-d8fd080af1aa": {
       "attrs": {
        "height": 0.8,
        "width": 0.8,
        "x": 0.1,
        "y": 0.1
       },
       "content": {
        "cell": "a0c9bc25-bbdb-4bcc-b843-d410dc78d10a",
        "part": "whole"
       },
       "id": "9d1fcb47-3843-47a4-b17e-d8fd080af1aa"
      }
     }
    },
    "cf6ba7bd-6bec-4600-aac3-87f5736ba7b9": {
     "id": "cf6ba7bd-6bec-4600-aac3-87f5736ba7b9",
     "prev": "49fca47e-3c68-4e63-8b2f-6c48be793a48",
     "regions": {
      "6deb6e70-e19b-4107-ac1f-3c454e7ec91d": {
       "attrs": {
        "height": 0.8,
        "width": 0.8,
        "x": 0.1,
        "y": 0.1
       },
       "content": {
        "cell": "a1d01330-02fb-47c4-97de-385767693763",
        "part": "whole"
       },
       "id": "6deb6e70-e19b-4107-ac1f-3c454e7ec91d"
      }
     }
    },
    "df6af56c-6430-4de6-80a9-cdb642ed0099": {
     "id": "df6af56c-6430-4de6-80a9-cdb642ed0099",
     "prev": "e7e4731e-4fe0-4681-a46b-80c55a6ad161",
     "regions": {
      "d24aa4a3-8340-4e28-bdf3-f2568f5c2148": {
       "attrs": {
        "height": 0.8,
        "width": 0.8,
        "x": 0.1,
        "y": 0.1
       },
       "content": {
        "cell": "95decd69-b276-43f1-805f-f677d5a2e4bb",
        "part": "whole"
       },
       "id": "d24aa4a3-8340-4e28-bdf3-f2568f5c2148"
      }
     }
    },
    "e0545e8a-4e81-4b69-bd56-efae6c757ad7": {
     "id": "e0545e8a-4e81-4b69-bd56-efae6c757ad7",
     "prev": "ccfc510b-23af-47c8-8c96-0440d4b52003",
     "regions": {
      "372c36fb-eeda-4d32-9c99-722f2cb68956": {
       "attrs": {
        "height": 0.8,
        "width": 0.8,
        "x": 0.1,
        "y": 0.1
       },
       "content": {
        "cell": "3502ca3a-ff63-4153-ae41-a23fc57b87f0",
        "part": "whole"
       },
       "id": "372c36fb-eeda-4d32-9c99-722f2cb68956"
      }
     }
    },
    "e7e4731e-4fe0-4681-a46b-80c55a6ad161": {
     "id": "e7e4731e-4fe0-4681-a46b-80c55a6ad161",
     "prev": "41104941-962b-4f55-8dc8-01e8d7e0d7ed",
     "regions": {
      "58a6b953-a397-4a8f-b949-415ec41ba7f0": {
       "attrs": {
        "height": 0.8,
        "width": 0.8,
        "x": 0.1,
        "y": 0.1
       },
       "content": {
        "cell": "ff1746df-e390-4852-a3b3-c04902c7d164",
        "part": "whole"
       },
       "id": "58a6b953-a397-4a8f-b949-415ec41ba7f0"
      }
     }
    },
    "e8758255-97af-4745-8d8b-af24485fce24": {
     "id": "e8758255-97af-4745-8d8b-af24485fce24",
     "prev": "8ffb4507-c2e6-4311-899b-fa440d5ece9a",
     "regions": {
      "81e30c9e-4421-47a0-8d20-a1d63e745f5d": {
       "attrs": {
        "height": 0.8,
        "width": 0.8,
        "x": 0.1,
        "y": 0.1
       },
       "content": {
        "cell": "c78cbfd4-c45e-4602-84fa-00e6cafb173d",
        "part": "whole"
       },
       "id": "81e30c9e-4421-47a0-8d20-a1d63e745f5d"
      }
     }
    },
    "e88b9536-beef-4f9d-99f0-25032fb4a631": {
     "id": "e88b9536-beef-4f9d-99f0-25032fb4a631",
     "prev": "48e1e017-652e-4826-8732-f11c9289169f",
     "regions": {
      "99418248-f959-456e-a38f-4e79c033c85a": {
       "attrs": {
        "height": 0.8,
        "width": 0.8,
        "x": 0.1,
        "y": 0.1
       },
       "content": {
        "cell": "54a047e6-d409-42c7-9f8c-72659e4c8c22",
        "part": "whole"
       },
       "id": "99418248-f959-456e-a38f-4e79c033c85a"
      }
     }
    },
    "f6accea6-099f-4cd5-864e-7557e428b4ec": {
     "id": "f6accea6-099f-4cd5-864e-7557e428b4ec",
     "prev": null,
     "regions": {
      "02665728-9613-4dfd-9c6d-0fc8b7b70949": {
       "attrs": {
        "height": 0.8,
        "width": 0.8,
        "x": 0.1,
        "y": 0.1
       },
       "content": {
        "cell": "3e3e4e00-cfc6-4e22-b5a4-21b4b22c798b",
        "part": "whole"
       },
       "id": "02665728-9613-4dfd-9c6d-0fc8b7b70949"
      }
     }
    }
   },
   "themes": {}
  }
 },
 "nbformat": 4,
 "nbformat_minor": 0
}
