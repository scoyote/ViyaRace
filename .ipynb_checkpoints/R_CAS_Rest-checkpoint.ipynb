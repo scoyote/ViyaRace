{
 "cells": [
  {
   "cell_type": "markdown",
   "metadata": {},
   "source": [
    "# CAS REST - This is an R kernel \n",
    "#### Ensure CAS services are running before executing"
   ]
  },
  {
   "cell_type": "code",
   "execution_count": 1,
   "metadata": {
    "collapsed": true
   },
   "outputs": [],
   "source": [
    "library(httr)\n",
    "library(jsonlite)\n",
    "\n",
    "hostname <- 'sasserver.demo.sas.com:8777'\n",
    "server <- 'cas-shared-default'              # CAS server name\n",
    "uri.token <- 'SASLogon/oath/token'\n",
    "uri.casManagement <- 'casManagement/servers'\n",
    "uri.casProxy <- 'casProxy/servers'"
   ]
  },
  {
   "cell_type": "code",
   "execution_count": 2,
   "metadata": {
    "collapsed": false
   },
   "outputs": [
    {
     "data": {
      "text/plain": [
       "Response [http://sasserver.demo.sas.com:8777/cas]\n",
       "  Date: 2016-10-26 18:43\n",
       "  Status: 200\n",
       "  Content-Type: application/json\n",
       "  Size: 623 B\n",
       "{ \"type\": \"Controller\",\n",
       " \"state\": \"Running\",\n",
       " \"client\": 5570,\n",
       " \"control\": 5580,\n",
       " \"process\": {\n",
       "  \"id\": \"2396\",\n",
       "  \"owner\": \"cas\",\n",
       "  \"uptime\": 18564.79,\n",
       "  \"userCPU\": 4.79,\n",
       "  \"sysCPU\": 2.95,\n",
       "..."
      ]
     },
     "metadata": {},
     "output_type": "display_data"
    }
   ],
   "source": [
    "# Get basic environment info\n",
    "GET(paste(hostname, 'cas', sep='/'), authenticate('viyauser','Orion123'))"
   ]
  },
  {
   "cell_type": "code",
   "execution_count": 3,
   "metadata": {
    "collapsed": false
   },
   "outputs": [
    {
     "data": {
      "text/html": [
       "<ol>\n",
       "\t<li>'racesx12004.demo.sas.com - Controller'</li>\n",
       "</ol>\n"
      ],
      "text/latex": [
       "\\begin{enumerate}\n",
       "\\item 'racesx12004.demo.sas.com - Controller'\n",
       "\\end{enumerate}\n"
      ],
      "text/markdown": [
       "1. 'racesx12004.demo.sas.com - Controller'\n",
       "\n",
       "\n"
      ],
      "text/plain": [
       "[[1]]\n",
       "[1] \"racesx12004.demo.sas.com - Controller\"\n"
      ]
     },
     "metadata": {},
     "output_type": "display_data"
    }
   ],
   "source": [
    "r <- GET(paste(hostname, 'grid', sep='/'), authenticate('sasdemo','Orion123'))\n",
    "\n",
    "lapply(content(r), function(x) { paste(x$name, x$type, sep=' - ')})"
   ]
  },
  {
   "cell_type": "code",
   "execution_count": 4,
   "metadata": {
    "collapsed": false
   },
   "outputs": [
    {
     "name": "stdout",
     "output_type": "stream",
     "text": [
      "[1] \"adae3a9d-20c2-9f4b-81f9-4b07b4d5336b\"\n"
     ]
    }
   ],
   "source": [
    "# Create a session and store the id\n",
    "sess <- content(POST(paste(hostname, 'cas', 'sessions', sep='/'), authenticate('sasdemo','Orion123')))$session\n",
    "print(sess)"
   ]
  },
  {
   "cell_type": "code",
   "execution_count": null,
   "metadata": {
    "collapsed": true
   },
   "outputs": [],
   "source": []
  }
 ],
 "metadata": {
  "kernelspec": {
   "display_name": "R",
   "language": "R",
   "name": "ir"
  },
  "language_info": {
   "codemirror_mode": "r",
   "file_extension": ".r",
   "mimetype": "text/x-r-source",
   "name": "R",
   "pygments_lexer": "r",
   "version": "3.3.1"
  }
 },
 "nbformat": 4,
 "nbformat_minor": 0
}
